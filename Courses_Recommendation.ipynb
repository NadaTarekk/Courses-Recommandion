{
  "nbformat": 4,
  "nbformat_minor": 0,
  "metadata": {
    "colab": {
      "provenance": [],
      "include_colab_link": true
    },
    "kernelspec": {
      "name": "python3",
      "display_name": "Python 3"
    },
    "language_info": {
      "name": "python"
    }
  },
  "cells": [
    {
      "cell_type": "markdown",
      "metadata": {
        "id": "view-in-github",
        "colab_type": "text"
      },
      "source": [
        "<a href=\"https://colab.research.google.com/github/NadaTarekk/PQC-Toy-Kyber/blob/main/Courses_Recommendation.ipynb\" target=\"_parent\"><img src=\"https://colab.research.google.com/assets/colab-badge.svg\" alt=\"Open In Colab\"/></a>"
      ]
    },
    {
      "cell_type": "markdown",
      "metadata": {
        "id": "R1oRN_iiHN_7"
      },
      "source": [
        "Importing the dependencies"
      ]
    },
    {
      "cell_type": "code",
      "metadata": {
        "id": "GAGi6hrzFLOb"
      },
      "source": [
        "import numpy as np\n",
        "import pandas as pd\n",
        "from sklearn.feature_extraction.text import TfidfVectorizer\n",
        "from sklearn.metrics.pairwise import cosine_similarity"
      ],
      "execution_count": 3,
      "outputs": []
    },
    {
      "cell_type": "markdown",
      "metadata": {
        "id": "mfIW1BYVIGfP"
      },
      "source": [
        "Data Collection and Pre-Processing"
      ]
    },
    {
      "cell_type": "code",
      "metadata": {
        "id": "MOXn7CGdIGBU"
      },
      "source": [
        "# loading the data from the csv file to apandas dataframe\n",
        "courses_data = pd.read_csv('/content/Courses.csv')"
      ],
      "execution_count": 64,
      "outputs": []
    },
    {
      "cell_type": "code",
      "metadata": {
        "colab": {
          "base_uri": "https://localhost:8080/",
          "height": 573
        },
        "id": "cha03lDAIa6l",
        "outputId": "5f165219-3bdc-40ba-af31-6397a8969985"
      },
      "source": [
        "# printing the first 5 rows of the dataframe\n",
        "courses_data.head()"
      ],
      "execution_count": 65,
      "outputs": [
        {
          "output_type": "execute_result",
          "data": {
            "text/plain": [
              "   Unnamed: 0                                        instructors  \\\n",
              "0           0                                  ['Jose Portilla']   \n",
              "1           1                                  ['Dr. Angela Yu']   \n",
              "2           2                                    ['Colt Steele']   \n",
              "3           3                                  ['Dr. Angela Yu']   \n",
              "4           4  ['Academind by Maximilian Schwarzmüller', 'Max...   \n",
              "\n",
              "                                        course_title  rating  \\\n",
              "0  The Complete Python Bootcamp From Zero to Hero...     4.6   \n",
              "1         The Complete 2023 Web Development Bootcamp     4.7   \n",
              "2                    The Web Developer Bootcamp 2023     4.7   \n",
              "3  100 Days of Code: The Complete Python Pro Boot...     4.7   \n",
              "4  React - The Complete Guide 2023 (incl. React R...     4.6   \n",
              "\n",
              "        numOfstudents                                       descriptions  \\\n",
              "0  1,823,671 students  Learn Python like a Professional  Start from t...   \n",
              "1  1,137,534 students  Become a Full-Stack Web Developer with just ON...   \n",
              "2    890,730 students  10 Hours of React just added. Become a Develop...   \n",
              "3  1,098,710 students  Master Python by building 100 projects in 100 ...   \n",
              "4    807,714 students  Dive in and learn React.js from scratch! Learn...   \n",
              "\n",
              "  languages           lastUpdated  \\\n",
              "0   English   Last updated 7/2023   \n",
              "1   English  Last updated 11/2023   \n",
              "2   English  Last updated 11/2023   \n",
              "3   English  Last updated 11/2023   \n",
              "4   English  Last updated 11/2023   \n",
              "\n",
              "                                                link       level  \\\n",
              "0  https://www.udemy.com/course/complete-python-b...  All Levels   \n",
              "1  https://www.udemy.com/course/the-complete-web-...  All Levels   \n",
              "2  https://www.udemy.com/course/the-web-developer...  All Levels   \n",
              "3     https://www.udemy.com/course/100-days-of-code/  All Levels   \n",
              "4  https://www.udemy.com/course/react-the-complet...  All Levels   \n",
              "\n",
              "                category       numOfratings  \n",
              "0  Programming Languages  (487,458 ratings)  \n",
              "1        Web Development  (340,840 ratings)  \n",
              "2        Web Development  (266,901 ratings)  \n",
              "3  Programming Languages  (254,397 ratings)  \n",
              "4  Programming Languages  (200,267 ratings)  "
            ],
            "text/html": [
              "\n",
              "  <div id=\"df-7a6af916-9a79-4983-a25d-b5d38c60360c\" class=\"colab-df-container\">\n",
              "    <div>\n",
              "<style scoped>\n",
              "    .dataframe tbody tr th:only-of-type {\n",
              "        vertical-align: middle;\n",
              "    }\n",
              "\n",
              "    .dataframe tbody tr th {\n",
              "        vertical-align: top;\n",
              "    }\n",
              "\n",
              "    .dataframe thead th {\n",
              "        text-align: right;\n",
              "    }\n",
              "</style>\n",
              "<table border=\"1\" class=\"dataframe\">\n",
              "  <thead>\n",
              "    <tr style=\"text-align: right;\">\n",
              "      <th></th>\n",
              "      <th>Unnamed: 0</th>\n",
              "      <th>instructors</th>\n",
              "      <th>course_title</th>\n",
              "      <th>rating</th>\n",
              "      <th>numOfstudents</th>\n",
              "      <th>descriptions</th>\n",
              "      <th>languages</th>\n",
              "      <th>lastUpdated</th>\n",
              "      <th>link</th>\n",
              "      <th>level</th>\n",
              "      <th>category</th>\n",
              "      <th>numOfratings</th>\n",
              "    </tr>\n",
              "  </thead>\n",
              "  <tbody>\n",
              "    <tr>\n",
              "      <th>0</th>\n",
              "      <td>0</td>\n",
              "      <td>['Jose Portilla']</td>\n",
              "      <td>The Complete Python Bootcamp From Zero to Hero...</td>\n",
              "      <td>4.6</td>\n",
              "      <td>1,823,671 students</td>\n",
              "      <td>Learn Python like a Professional  Start from t...</td>\n",
              "      <td>English</td>\n",
              "      <td>Last updated 7/2023</td>\n",
              "      <td>https://www.udemy.com/course/complete-python-b...</td>\n",
              "      <td>All Levels</td>\n",
              "      <td>Programming Languages</td>\n",
              "      <td>(487,458 ratings)</td>\n",
              "    </tr>\n",
              "    <tr>\n",
              "      <th>1</th>\n",
              "      <td>1</td>\n",
              "      <td>['Dr. Angela Yu']</td>\n",
              "      <td>The Complete 2023 Web Development Bootcamp</td>\n",
              "      <td>4.7</td>\n",
              "      <td>1,137,534 students</td>\n",
              "      <td>Become a Full-Stack Web Developer with just ON...</td>\n",
              "      <td>English</td>\n",
              "      <td>Last updated 11/2023</td>\n",
              "      <td>https://www.udemy.com/course/the-complete-web-...</td>\n",
              "      <td>All Levels</td>\n",
              "      <td>Web Development</td>\n",
              "      <td>(340,840 ratings)</td>\n",
              "    </tr>\n",
              "    <tr>\n",
              "      <th>2</th>\n",
              "      <td>2</td>\n",
              "      <td>['Colt Steele']</td>\n",
              "      <td>The Web Developer Bootcamp 2023</td>\n",
              "      <td>4.7</td>\n",
              "      <td>890,730 students</td>\n",
              "      <td>10 Hours of React just added. Become a Develop...</td>\n",
              "      <td>English</td>\n",
              "      <td>Last updated 11/2023</td>\n",
              "      <td>https://www.udemy.com/course/the-web-developer...</td>\n",
              "      <td>All Levels</td>\n",
              "      <td>Web Development</td>\n",
              "      <td>(266,901 ratings)</td>\n",
              "    </tr>\n",
              "    <tr>\n",
              "      <th>3</th>\n",
              "      <td>3</td>\n",
              "      <td>['Dr. Angela Yu']</td>\n",
              "      <td>100 Days of Code: The Complete Python Pro Boot...</td>\n",
              "      <td>4.7</td>\n",
              "      <td>1,098,710 students</td>\n",
              "      <td>Master Python by building 100 projects in 100 ...</td>\n",
              "      <td>English</td>\n",
              "      <td>Last updated 11/2023</td>\n",
              "      <td>https://www.udemy.com/course/100-days-of-code/</td>\n",
              "      <td>All Levels</td>\n",
              "      <td>Programming Languages</td>\n",
              "      <td>(254,397 ratings)</td>\n",
              "    </tr>\n",
              "    <tr>\n",
              "      <th>4</th>\n",
              "      <td>4</td>\n",
              "      <td>['Academind by Maximilian Schwarzmüller', 'Max...</td>\n",
              "      <td>React - The Complete Guide 2023 (incl. React R...</td>\n",
              "      <td>4.6</td>\n",
              "      <td>807,714 students</td>\n",
              "      <td>Dive in and learn React.js from scratch! Learn...</td>\n",
              "      <td>English</td>\n",
              "      <td>Last updated 11/2023</td>\n",
              "      <td>https://www.udemy.com/course/react-the-complet...</td>\n",
              "      <td>All Levels</td>\n",
              "      <td>Programming Languages</td>\n",
              "      <td>(200,267 ratings)</td>\n",
              "    </tr>\n",
              "  </tbody>\n",
              "</table>\n",
              "</div>\n",
              "    <div class=\"colab-df-buttons\">\n",
              "\n",
              "  <div class=\"colab-df-container\">\n",
              "    <button class=\"colab-df-convert\" onclick=\"convertToInteractive('df-7a6af916-9a79-4983-a25d-b5d38c60360c')\"\n",
              "            title=\"Convert this dataframe to an interactive table.\"\n",
              "            style=\"display:none;\">\n",
              "\n",
              "  <svg xmlns=\"http://www.w3.org/2000/svg\" height=\"24px\" viewBox=\"0 -960 960 960\">\n",
              "    <path d=\"M120-120v-720h720v720H120Zm60-500h600v-160H180v160Zm220 220h160v-160H400v160Zm0 220h160v-160H400v160ZM180-400h160v-160H180v160Zm440 0h160v-160H620v160ZM180-180h160v-160H180v160Zm440 0h160v-160H620v160Z\"/>\n",
              "  </svg>\n",
              "    </button>\n",
              "\n",
              "  <style>\n",
              "    .colab-df-container {\n",
              "      display:flex;\n",
              "      gap: 12px;\n",
              "    }\n",
              "\n",
              "    .colab-df-convert {\n",
              "      background-color: #E8F0FE;\n",
              "      border: none;\n",
              "      border-radius: 50%;\n",
              "      cursor: pointer;\n",
              "      display: none;\n",
              "      fill: #1967D2;\n",
              "      height: 32px;\n",
              "      padding: 0 0 0 0;\n",
              "      width: 32px;\n",
              "    }\n",
              "\n",
              "    .colab-df-convert:hover {\n",
              "      background-color: #E2EBFA;\n",
              "      box-shadow: 0px 1px 2px rgba(60, 64, 67, 0.3), 0px 1px 3px 1px rgba(60, 64, 67, 0.15);\n",
              "      fill: #174EA6;\n",
              "    }\n",
              "\n",
              "    .colab-df-buttons div {\n",
              "      margin-bottom: 4px;\n",
              "    }\n",
              "\n",
              "    [theme=dark] .colab-df-convert {\n",
              "      background-color: #3B4455;\n",
              "      fill: #D2E3FC;\n",
              "    }\n",
              "\n",
              "    [theme=dark] .colab-df-convert:hover {\n",
              "      background-color: #434B5C;\n",
              "      box-shadow: 0px 1px 3px 1px rgba(0, 0, 0, 0.15);\n",
              "      filter: drop-shadow(0px 1px 2px rgba(0, 0, 0, 0.3));\n",
              "      fill: #FFFFFF;\n",
              "    }\n",
              "  </style>\n",
              "\n",
              "    <script>\n",
              "      const buttonEl =\n",
              "        document.querySelector('#df-7a6af916-9a79-4983-a25d-b5d38c60360c button.colab-df-convert');\n",
              "      buttonEl.style.display =\n",
              "        google.colab.kernel.accessAllowed ? 'block' : 'none';\n",
              "\n",
              "      async function convertToInteractive(key) {\n",
              "        const element = document.querySelector('#df-7a6af916-9a79-4983-a25d-b5d38c60360c');\n",
              "        const dataTable =\n",
              "          await google.colab.kernel.invokeFunction('convertToInteractive',\n",
              "                                                    [key], {});\n",
              "        if (!dataTable) return;\n",
              "\n",
              "        const docLinkHtml = 'Like what you see? Visit the ' +\n",
              "          '<a target=\"_blank\" href=https://colab.research.google.com/notebooks/data_table.ipynb>data table notebook</a>'\n",
              "          + ' to learn more about interactive tables.';\n",
              "        element.innerHTML = '';\n",
              "        dataTable['output_type'] = 'display_data';\n",
              "        await google.colab.output.renderOutput(dataTable, element);\n",
              "        const docLink = document.createElement('div');\n",
              "        docLink.innerHTML = docLinkHtml;\n",
              "        element.appendChild(docLink);\n",
              "      }\n",
              "    </script>\n",
              "  </div>\n",
              "\n",
              "\n",
              "<div id=\"df-1f2f9125-0e0d-4c19-a767-72f450a2dcc2\">\n",
              "  <button class=\"colab-df-quickchart\" onclick=\"quickchart('df-1f2f9125-0e0d-4c19-a767-72f450a2dcc2')\"\n",
              "            title=\"Suggest charts\"\n",
              "            style=\"display:none;\">\n",
              "\n",
              "<svg xmlns=\"http://www.w3.org/2000/svg\" height=\"24px\"viewBox=\"0 0 24 24\"\n",
              "     width=\"24px\">\n",
              "    <g>\n",
              "        <path d=\"M19 3H5c-1.1 0-2 .9-2 2v14c0 1.1.9 2 2 2h14c1.1 0 2-.9 2-2V5c0-1.1-.9-2-2-2zM9 17H7v-7h2v7zm4 0h-2V7h2v10zm4 0h-2v-4h2v4z\"/>\n",
              "    </g>\n",
              "</svg>\n",
              "  </button>\n",
              "\n",
              "<style>\n",
              "  .colab-df-quickchart {\n",
              "      --bg-color: #E8F0FE;\n",
              "      --fill-color: #1967D2;\n",
              "      --hover-bg-color: #E2EBFA;\n",
              "      --hover-fill-color: #174EA6;\n",
              "      --disabled-fill-color: #AAA;\n",
              "      --disabled-bg-color: #DDD;\n",
              "  }\n",
              "\n",
              "  [theme=dark] .colab-df-quickchart {\n",
              "      --bg-color: #3B4455;\n",
              "      --fill-color: #D2E3FC;\n",
              "      --hover-bg-color: #434B5C;\n",
              "      --hover-fill-color: #FFFFFF;\n",
              "      --disabled-bg-color: #3B4455;\n",
              "      --disabled-fill-color: #666;\n",
              "  }\n",
              "\n",
              "  .colab-df-quickchart {\n",
              "    background-color: var(--bg-color);\n",
              "    border: none;\n",
              "    border-radius: 50%;\n",
              "    cursor: pointer;\n",
              "    display: none;\n",
              "    fill: var(--fill-color);\n",
              "    height: 32px;\n",
              "    padding: 0;\n",
              "    width: 32px;\n",
              "  }\n",
              "\n",
              "  .colab-df-quickchart:hover {\n",
              "    background-color: var(--hover-bg-color);\n",
              "    box-shadow: 0 1px 2px rgba(60, 64, 67, 0.3), 0 1px 3px 1px rgba(60, 64, 67, 0.15);\n",
              "    fill: var(--button-hover-fill-color);\n",
              "  }\n",
              "\n",
              "  .colab-df-quickchart-complete:disabled,\n",
              "  .colab-df-quickchart-complete:disabled:hover {\n",
              "    background-color: var(--disabled-bg-color);\n",
              "    fill: var(--disabled-fill-color);\n",
              "    box-shadow: none;\n",
              "  }\n",
              "\n",
              "  .colab-df-spinner {\n",
              "    border: 2px solid var(--fill-color);\n",
              "    border-color: transparent;\n",
              "    border-bottom-color: var(--fill-color);\n",
              "    animation:\n",
              "      spin 1s steps(1) infinite;\n",
              "  }\n",
              "\n",
              "  @keyframes spin {\n",
              "    0% {\n",
              "      border-color: transparent;\n",
              "      border-bottom-color: var(--fill-color);\n",
              "      border-left-color: var(--fill-color);\n",
              "    }\n",
              "    20% {\n",
              "      border-color: transparent;\n",
              "      border-left-color: var(--fill-color);\n",
              "      border-top-color: var(--fill-color);\n",
              "    }\n",
              "    30% {\n",
              "      border-color: transparent;\n",
              "      border-left-color: var(--fill-color);\n",
              "      border-top-color: var(--fill-color);\n",
              "      border-right-color: var(--fill-color);\n",
              "    }\n",
              "    40% {\n",
              "      border-color: transparent;\n",
              "      border-right-color: var(--fill-color);\n",
              "      border-top-color: var(--fill-color);\n",
              "    }\n",
              "    60% {\n",
              "      border-color: transparent;\n",
              "      border-right-color: var(--fill-color);\n",
              "    }\n",
              "    80% {\n",
              "      border-color: transparent;\n",
              "      border-right-color: var(--fill-color);\n",
              "      border-bottom-color: var(--fill-color);\n",
              "    }\n",
              "    90% {\n",
              "      border-color: transparent;\n",
              "      border-bottom-color: var(--fill-color);\n",
              "    }\n",
              "  }\n",
              "</style>\n",
              "\n",
              "  <script>\n",
              "    async function quickchart(key) {\n",
              "      const quickchartButtonEl =\n",
              "        document.querySelector('#' + key + ' button');\n",
              "      quickchartButtonEl.disabled = true;  // To prevent multiple clicks.\n",
              "      quickchartButtonEl.classList.add('colab-df-spinner');\n",
              "      try {\n",
              "        const charts = await google.colab.kernel.invokeFunction(\n",
              "            'suggestCharts', [key], {});\n",
              "      } catch (error) {\n",
              "        console.error('Error during call to suggestCharts:', error);\n",
              "      }\n",
              "      quickchartButtonEl.classList.remove('colab-df-spinner');\n",
              "      quickchartButtonEl.classList.add('colab-df-quickchart-complete');\n",
              "    }\n",
              "    (() => {\n",
              "      let quickchartButtonEl =\n",
              "        document.querySelector('#df-1f2f9125-0e0d-4c19-a767-72f450a2dcc2 button');\n",
              "      quickchartButtonEl.style.display =\n",
              "        google.colab.kernel.accessAllowed ? 'block' : 'none';\n",
              "    })();\n",
              "  </script>\n",
              "</div>\n",
              "\n",
              "    </div>\n",
              "  </div>\n"
            ],
            "application/vnd.google.colaboratory.intrinsic+json": {
              "type": "dataframe",
              "variable_name": "courses_data",
              "summary": "{\n  \"name\": \"courses_data\",\n  \"rows\": 320,\n  \"fields\": [\n    {\n      \"column\": \"Unnamed: 0\",\n      \"properties\": {\n        \"dtype\": \"number\",\n        \"std\": 92,\n        \"min\": 0,\n        \"max\": 319,\n        \"num_unique_values\": 320,\n        \"samples\": [\n          167,\n          230,\n          25\n        ],\n        \"semantic_type\": \"\",\n        \"description\": \"\"\n      }\n    },\n    {\n      \"column\": \"instructors\",\n      \"properties\": {\n        \"dtype\": \"string\",\n        \"num_unique_values\": 182,\n        \"samples\": [\n          \"[\\\"Tim Buchalka's Learn Programming Academy\\\", 'Dr. Frank Mitropoulos']\",\n          \"['Jason Taylor', 'John Myers']\",\n          \"['Khaled Alkhudari']\"\n        ],\n        \"semantic_type\": \"\",\n        \"description\": \"\"\n      }\n    },\n    {\n      \"column\": \"course_title\",\n      \"properties\": {\n        \"dtype\": \"string\",\n        \"num_unique_values\": 320,\n        \"samples\": [\n          \"Selenium WebDriver with Java for beginners\",\n          \"Data Structures A-Z : Data Structures + Algorithms Bootcamp\",\n          \"Beginning C++ Programming - From Beginner to Beyond\"\n        ],\n        \"semantic_type\": \"\",\n        \"description\": \"\"\n      }\n    },\n    {\n      \"column\": \"rating\",\n      \"properties\": {\n        \"dtype\": \"number\",\n        \"std\": 0.14147537641463065,\n        \"min\": 3.9,\n        \"max\": 4.9,\n        \"num_unique_values\": 10,\n        \"samples\": [\n          4.1,\n          4.7,\n          4.3\n        ],\n        \"semantic_type\": \"\",\n        \"description\": \"\"\n      }\n    },\n    {\n      \"column\": \"numOfstudents\",\n      \"properties\": {\n        \"dtype\": \"string\",\n        \"num_unique_values\": 320,\n        \"samples\": [\n          \"45,965 students\",\n          \"41,032 students\",\n          \"280,813 students\"\n        ],\n        \"semantic_type\": \"\",\n        \"description\": \"\"\n      }\n    },\n    {\n      \"column\": \"descriptions\",\n      \"properties\": {\n        \"dtype\": \"string\",\n        \"num_unique_values\": 320,\n        \"samples\": [\n          \"Selenium WebDriver with Java and TestNG. Tutorial designed for complete beginners in Selenium testing and automation\",\n          \"Become ace in data structures & algorithms & Crack the code interview by getting mastery in data structures & algorithms\",\n          \"Obtain Modern C++ Object-Oriented Programming (OOP) and STL skills. C++14 and C++17 covered.  C++20 info see below.\"\n        ],\n        \"semantic_type\": \"\",\n        \"description\": \"\"\n      }\n    },\n    {\n      \"column\": \"languages\",\n      \"properties\": {\n        \"dtype\": \"category\",\n        \"num_unique_values\": 1,\n        \"samples\": [\n          \"English\"\n        ],\n        \"semantic_type\": \"\",\n        \"description\": \"\"\n      }\n    },\n    {\n      \"column\": \"lastUpdated\",\n      \"properties\": {\n        \"dtype\": \"category\",\n        \"num_unique_values\": 65,\n        \"samples\": [\n          \"Last updated 6/2021\"\n        ],\n        \"semantic_type\": \"\",\n        \"description\": \"\"\n      }\n    },\n    {\n      \"column\": \"link\",\n      \"properties\": {\n        \"dtype\": \"string\",\n        \"num_unique_values\": 320,\n        \"samples\": [\n          \"https://www.udemy.com/course/selenium-for-beginners/\"\n        ],\n        \"semantic_type\": \"\",\n        \"description\": \"\"\n      }\n    },\n    {\n      \"column\": \"level\",\n      \"properties\": {\n        \"dtype\": \"category\",\n        \"num_unique_values\": 4,\n        \"samples\": [\n          \"Beginner\"\n        ],\n        \"semantic_type\": \"\",\n        \"description\": \"\"\n      }\n    },\n    {\n      \"column\": \"category\",\n      \"properties\": {\n        \"dtype\": \"category\",\n        \"num_unique_values\": 10,\n        \"samples\": [\n          \"Software Engineering\"\n        ],\n        \"semantic_type\": \"\",\n        \"description\": \"\"\n      }\n    },\n    {\n      \"column\": \"numOfratings\",\n      \"properties\": {\n        \"dtype\": \"string\",\n        \"num_unique_values\": 318,\n        \"samples\": [\n          \"(28,244 ratings)\"\n        ],\n        \"semantic_type\": \"\",\n        \"description\": \"\"\n      }\n    }\n  ]\n}"
            }
          },
          "metadata": {},
          "execution_count": 65
        }
      ]
    },
    {
      "cell_type": "code",
      "metadata": {
        "colab": {
          "base_uri": "https://localhost:8080/"
        },
        "id": "Qrtr0oQbIjwF",
        "outputId": "ffa5d81b-ac0c-494a-ef6a-4c4e0f498c93"
      },
      "source": [
        "# number of rows and columns in the data frame\n",
        "\n",
        "courses_data.shape"
      ],
      "execution_count": 67,
      "outputs": [
        {
          "output_type": "execute_result",
          "data": {
            "text/plain": [
              "(320, 12)"
            ]
          },
          "metadata": {},
          "execution_count": 67
        }
      ]
    },
    {
      "cell_type": "code",
      "metadata": {
        "colab": {
          "base_uri": "https://localhost:8080/"
        },
        "id": "hunvyruUJhVq",
        "outputId": "f9ff0b88-c2d3-4f00-d12a-3423d808dfc8"
      },
      "source": [
        "# selecting the relevant features for recommendation\n",
        "\n",
        "selected_features = ['course_title','descriptions','category']\n",
        "print(selected_features)"
      ],
      "execution_count": 68,
      "outputs": [
        {
          "output_type": "stream",
          "name": "stdout",
          "text": [
            "['course_title', 'descriptions', 'category']\n"
          ]
        }
      ]
    },
    {
      "cell_type": "code",
      "metadata": {
        "id": "CKIVE6OWKSYk"
      },
      "source": [
        "# replacing the null valuess with null string\n",
        "\n",
        "for feature in selected_features:\n",
        "  courses_data[feature] = courses_data[feature].fillna('')"
      ],
      "execution_count": 69,
      "outputs": []
    },
    {
      "cell_type": "code",
      "metadata": {
        "id": "-AMjrRItLCO1"
      },
      "source": [
        "# combining all the selected features\n",
        "\n",
        "combined_features = courses_data['course_title']+' '+courses_data['descriptions']+' '+courses_data['category']"
      ],
      "execution_count": 70,
      "outputs": []
    },
    {
      "cell_type": "code",
      "metadata": {
        "colab": {
          "base_uri": "https://localhost:8080/"
        },
        "id": "ZYjFXx3aLwTh",
        "outputId": "a606b990-e530-444d-af77-53c6947671af"
      },
      "source": [
        "print(combined_features)"
      ],
      "execution_count": 71,
      "outputs": [
        {
          "output_type": "stream",
          "name": "stdout",
          "text": [
            "0      The Complete Python Bootcamp From Zero to Hero...\n",
            "1      The Complete 2023 Web Development Bootcamp Bec...\n",
            "2      The Web Developer Bootcamp 2023 10 Hours of Re...\n",
            "3      100 Days of Code: The Complete Python Pro Boot...\n",
            "4      React - The Complete Guide 2023 (incl. React R...\n",
            "                             ...                        \n",
            "315    Ultimate Rust Crash Course Rust Programming Fu...\n",
            "316    Microfrontends with React: A Complete Develope...\n",
            "317    Data Integration Fundamentals Learn how to use...\n",
            "318    Complete guide to building an app with .Net Co...\n",
            "319    Artificial Intelligence & Machine Learning for...\n",
            "Length: 320, dtype: object\n"
          ]
        }
      ]
    },
    {
      "cell_type": "code",
      "metadata": {
        "id": "BfuttC_gLyfF"
      },
      "source": [
        "# converting the text data to feature vectors\n",
        "\n",
        "vectorizer = TfidfVectorizer()"
      ],
      "execution_count": 72,
      "outputs": []
    },
    {
      "cell_type": "code",
      "metadata": {
        "id": "Leo5rQskMKxL"
      },
      "source": [
        "feature_vectors = vectorizer.fit_transform(combined_features)"
      ],
      "execution_count": 73,
      "outputs": []
    },
    {
      "cell_type": "code",
      "metadata": {
        "colab": {
          "base_uri": "https://localhost:8080/"
        },
        "id": "qNbeeMSnMb2F",
        "outputId": "e04df1df-cab9-4e0e-92a8-b66ea5ce0b0b"
      },
      "source": [
        "print(feature_vectors)"
      ],
      "execution_count": 74,
      "outputs": [
        {
          "output_type": "stream",
          "name": "stdout",
          "text": [
            "  (0, 615)\t0.11157813032536336\n",
            "  (0, 844)\t0.10528820129106936\n",
            "  (0, 469)\t0.21060522591356606\n",
            "  (0, 98)\t0.18428677294878085\n",
            "  (0, 770)\t0.22026839136290827\n",
            "  (0, 1227)\t0.14276696649129322\n",
            "  (0, 272)\t0.27317134406176297\n",
            "  (0, 1182)\t0.21060522591356606\n",
            "  (0, 69)\t0.19566991919014787\n",
            "  (0, 486)\t0.2025608462627612\n",
            "  (0, 81)\t0.14431293738458287\n",
            "  (0, 143)\t0.18181677807002086\n",
            "  (0, 1024)\t0.2025608462627612\n",
            "  (0, 838)\t0.22026839136290827\n",
            "  (0, 632)\t0.21519482497951173\n",
            "  (0, 623)\t0.08259410321716769\n",
            "  (0, 535)\t0.10938891958180237\n",
            "  (0, 512)\t0.2323702724805889\n",
            "  (0, 1102)\t0.17351240744988985\n",
            "  (0, 1228)\t0.2064152502427813\n",
            "  (0, 455)\t0.24864845261044116\n",
            "  (0, 172)\t0.15090872603929\n",
            "  (0, 862)\t0.37969310124863875\n",
            "  (0, 231)\t0.10150945222488422\n",
            "  (0, 1088)\t0.2379995371597852\n",
            "  :\t:\n",
            "  (318, 334)\t0.06854522274489758\n",
            "  (318, 1185)\t0.08393537482311132\n",
            "  (318, 81)\t0.1219958176093508\n",
            "  (318, 1024)\t0.17123604094907383\n",
            "  (318, 1102)\t0.22001965030833234\n",
            "  (318, 455)\t0.10509823936530624\n",
            "  (318, 231)\t0.17162326321791097\n",
            "  (318, 1088)\t0.06706478447153853\n",
            "  (319, 622)\t0.2642268463528299\n",
            "  (319, 285)\t0.2642268463528299\n",
            "  (319, 656)\t0.24660105072106583\n",
            "  (319, 385)\t0.24660105072106583\n",
            "  (319, 558)\t0.4079277060994445\n",
            "  (319, 113)\t0.4195370751413638\n",
            "  (319, 181)\t0.20396385304972225\n",
            "  (319, 1072)\t0.24660105072106583\n",
            "  (319, 1135)\t0.18633805741795822\n",
            "  (319, 624)\t0.25971499493605393\n",
            "  (319, 648)\t0.32402249057472804\n",
            "  (319, 940)\t0.134000684433475\n",
            "  (319, 294)\t0.11425395300404614\n",
            "  (319, 443)\t0.1892118124089977\n",
            "  (319, 261)\t0.10279578606515467\n",
            "  (319, 81)\t0.06513809512837349\n",
            "  (319, 1088)\t0.07161675533270258\n"
          ]
        }
      ]
    },
    {
      "cell_type": "markdown",
      "metadata": {
        "id": "qEGga5yPMnXO"
      },
      "source": [
        "Cosine Similarity"
      ]
    },
    {
      "cell_type": "code",
      "metadata": {
        "id": "MsKYCs31MeB6"
      },
      "source": [
        "# getting the similarity scores using cosine similarity\n",
        "\n",
        "similarity = cosine_similarity(feature_vectors)"
      ],
      "execution_count": 75,
      "outputs": []
    },
    {
      "cell_type": "code",
      "metadata": {
        "colab": {
          "base_uri": "https://localhost:8080/"
        },
        "id": "46ha1PfTM-oQ",
        "outputId": "32a5ce6d-5a1f-416c-ef7d-31dde3801957"
      },
      "source": [
        "print(similarity)"
      ],
      "execution_count": 76,
      "outputs": [
        {
          "output_type": "stream",
          "name": "stdout",
          "text": [
            "[[1.         0.06937824 0.05721854 ... 0.07094398 0.14998272 0.02644502]\n",
            " [0.06937824 1.         0.59967904 ... 0.02138868 0.14006314 0.02456831]\n",
            " [0.05721854 0.59967904 1.         ... 0.01356227 0.1549244  0.02427219]\n",
            " ...\n",
            " [0.07094398 0.02138868 0.01356227 ... 1.         0.05503489 0.0834945 ]\n",
            " [0.14998272 0.14006314 0.1549244  ... 0.05503489 1.         0.01274954]\n",
            " [0.02644502 0.02456831 0.02427219 ... 0.0834945  0.01274954 1.        ]]\n"
          ]
        }
      ]
    },
    {
      "cell_type": "code",
      "metadata": {
        "colab": {
          "base_uri": "https://localhost:8080/"
        },
        "id": "PLkvII-wM_5I",
        "outputId": "1e2f951a-c6be-40a7-de68-f2e497da2a82"
      },
      "source": [
        "print(similarity.shape)"
      ],
      "execution_count": 77,
      "outputs": [
        {
          "output_type": "stream",
          "name": "stdout",
          "text": [
            "(320, 320)\n"
          ]
        }
      ]
    },
    {
      "cell_type": "markdown",
      "metadata": {
        "id": "EG3JItMUWeDD"
      },
      "source": [
        "Getting the movie name from the user"
      ]
    },
    {
      "cell_type": "code",
      "metadata": {
        "colab": {
          "base_uri": "https://localhost:8080/"
        },
        "id": "bhSWJgqgNDo7",
        "outputId": "ade95889-d00b-4c1d-d306-da8354952c52"
      },
      "source": [
        "# getting the movie name from the user\n",
        "\n",
        "course_name = input(' Enter your favourite course name : ')"
      ],
      "execution_count": 78,
      "outputs": [
        {
          "name": "stdout",
          "output_type": "stream",
          "text": [
            " Enter your favourite course name : Java 17 Masterclass: Start Coding in 2023\n"
          ]
        }
      ]
    },
    {
      "cell_type": "code",
      "metadata": {
        "colab": {
          "base_uri": "https://localhost:8080/"
        },
        "id": "CNXJfY-FOw1I",
        "outputId": "49e7e96a-a8f1-4868-855c-bd84dfc5d731"
      },
      "source": [
        "# finding the index of the course with title\n",
        "\n",
        "index_of_the_movie = courses_data[courses_data.course_title == course_name].index.tolist()[0]\n",
        "index_of_the_movie"
      ],
      "execution_count": 80,
      "outputs": [
        {
          "output_type": "execute_result",
          "data": {
            "text/plain": [
              "7"
            ]
          },
          "metadata": {},
          "execution_count": 80
        }
      ]
    },
    {
      "cell_type": "code",
      "metadata": {
        "colab": {
          "base_uri": "https://localhost:8080/"
        },
        "id": "dyUeQZpvPbkx",
        "outputId": "b4a2edc7-a898-445e-b8e9-2e48a74000b8"
      },
      "source": [
        "# getting a list of similar courses\n",
        "\n",
        "similarity_score = list(enumerate(similarity[index_of_the_movie]))\n",
        "print(similarity_score)"
      ],
      "execution_count": 81,
      "outputs": [
        {
          "output_type": "stream",
          "name": "stdout",
          "text": [
            "[(0, 0.23278693885085067), (1, 0.024618525562576234), (2, 0.024321800310143242), (3, 0.06127296866644732), (4, 0.06415703824173792), (5, 0.019184462059873456), (6, 0.035353593821795544), (7, 1.0000000000000002), (8, 0.0565096574599969), (9, 0.007669620074199825), (10, 0.052011193135413), (11, 0.08243246332038576), (12, 0.15759336457261572), (13, 0.02779796600751539), (14, 0.020048410542290167), (15, 0.09630081130929827), (16, 0.026674991451471376), (17, 0.0228458369272778), (18, 0.020756561640518017), (19, 0.018666991992675578), (20, 0.04488264266133592), (21, 0.0329949676409229), (22, 0.025560679582105093), (23, 0.0762302482776451), (24, 0.12423787773016381), (25, 0.19209073790626938), (26, 0.05414308039502293), (27, 0.09494674595820438), (28, 0.0), (29, 0.012534873419146407), (30, 0.0), (31, 0.09972571239701288), (32, 0.056412266464088284), (33, 0.013145716710159194), (34, 0.08354521262581764), (35, 0.008692323754557143), (36, 0.0), (37, 0.03995182403031077), (38, 0.047965462039079435), (39, 0.01885133295043296), (40, 0.02406920142544567), (41, 0.05219048145216078), (42, 0.0), (43, 0.0), (44, 0.038565515046621986), (45, 0.08823769241800673), (46, 0.01000950231379276), (47, 0.025779483437789817), (48, 0.07724203015679107), (49, 0.31434143994745317), (50, 0.0418319916362483), (51, 0.022604145237066196), (52, 0.093046673489596), (53, 0.06276556489228183), (54, 0.0), (55, 0.027734902395359196), (56, 0.13715660140701336), (57, 0.06933095664509746), (58, 0.018592523059263105), (59, 0.006528375918963775), (60, 0.006551414409338307), (61, 0.23191610261478157), (62, 0.11841488986731813), (63, 0.11016921131841956), (64, 0.14457015572227847), (65, 0.03725589359990721), (66, 0.0795582769829647), (67, 0.0), (68, 0.02503144905760775), (69, 0.043714008020488505), (70, 0.0), (71, 0.009421426730293433), (72, 0.0), (73, 0.1332744850015047), (74, 0.07301817012716695), (75, 0.11176321783582777), (76, 0.029558553104417826), (77, 0.03184257304560008), (78, 0.029991923758681007), (79, 0.0068494915842020766), (80, 0.25678342182033814), (81, 0.014304316862629292), (82, 0.04267056892587068), (83, 0.09762375509591958), (84, 0.1595277690022893), (85, 0.08440000352958227), (86, 0.006289153467648453), (87, 0.05455101538433002), (88, 0.07164745827446942), (89, 0.01523316503520814), (90, 0.10452249239926675), (91, 0.021503988610517288), (92, 0.0329579455687072), (93, 0.007202768246633808), (94, 0.006043521950846679), (95, 0.006293402609806912), (96, 0.23549201778937684), (97, 0.11530660830844347), (98, 0.05679105262923134), (99, 0.0770786039981916), (100, 0.0), (101, 0.025134787175405914), (102, 0.029347523160310536), (103, 0.0), (104, 0.06677531296195434), (105, 0.01999468536736125), (106, 0.0), (107, 0.12678731681450883), (108, 0.0), (109, 0.013338228595373964), (110, 0.03479949262221972), (111, 0.045181764021630835), (112, 0.021916320028742147), (113, 0.017303888208501695), (114, 0.025939572915065864), (115, 0.04687594345454842), (116, 0.07316891493909432), (117, 0.06345579706981476), (118, 0.06587177903366344), (119, 0.016839701454643776), (120, 0.04277613742756137), (121, 0.013802824316934945), (122, 0.030925009903545686), (123, 0.07010968750999462), (124, 0.01260270965451059), (125, 0.0), (126, 0.014347813125539781), (127, 0.06369726654758368), (128, 0.017952554382965263), (129, 0.03997984735417123), (130, 0.0), (131, 0.0), (132, 0.03126484356385211), (133, 0.0), (134, 0.12485951106381482), (135, 0.2938672477784605), (136, 0.0), (137, 0.01876430590524423), (138, 0.33115551059411213), (139, 0.04236992238210086), (140, 0.05653518273047766), (141, 0.012735826592232031), (142, 0.025293490404054982), (143, 0.015469156418311826), (144, 0.006225515595750718), (145, 0.01289819243697622), (146, 0.07486716720885263), (147, 0.06767849234773975), (148, 0.10167855598775365), (149, 0.2485442198025443), (150, 0.025593023145887288), (151, 0.13169700543019222), (152, 0.0), (153, 0.09669644827968395), (154, 0.021163321330830764), (155, 0.06122992438167107), (156, 0.05302669001740018), (157, 0.022705771081323156), (158, 0.014367158520957385), (159, 0.046937782520784815), (160, 0.0), (161, 0.0065478328468462), (162, 0.021604813735003132), (163, 0.020847501480671004), (164, 0.03536999390995724), (165, 0.0849319318830739), (166, 0.026055155250365267), (167, 0.09768307863814875), (168, 0.012530685732619645), (169, 0.09221721435622443), (170, 0.0), (171, 0.01444751633613553), (172, 0.05555730559957246), (173, 0.03462759905406579), (174, 0.07718980022005086), (175, 0.02427710277849155), (176, 0.04339643271368515), (177, 0.1390770604991466), (178, 0.07340132722451752), (179, 0.019168475781717955), (180, 0.03943932494196176), (181, 0.0), (182, 0.0), (183, 0.010433636499998556), (184, 0.04722850035397167), (185, 0.18561496715192044), (186, 0.03529804377225893), (187, 0.007330254197600976), (188, 0.09441804107659119), (189, 0.23957085372683257), (190, 0.08403423736402284), (191, 0.08751724307013396), (192, 0.025055250125684617), (193, 0.05246492929275281), (194, 0.03518350757527005), (195, 0.2667291654590683), (196, 0.046591683218187074), (197, 0.04548574157060022), (198, 0.04966299234352194), (199, 0.06264255300928416), (200, 0.06177447009674447), (201, 0.03590103503578871), (202, 0.01881389961646778), (203, 0.0062517662513270405), (204, 0.0), (205, 0.0), (206, 0.0), (207, 0.04236391270767104), (208, 0.11376228990366227), (209, 0.15300947589439487), (210, 0.05893564479917371), (211, 0.1231856799110008), (212, 0.0457359206188741), (213, 0.11170317165309912), (214, 0.006540818081313216), (215, 0.0), (216, 0.14749498572073788), (217, 0.025695898493564615), (218, 0.0), (219, 0.041498542138017805), (220, 0.10367697881788292), (221, 0.23572594657029952), (222, 0.11054132817339829), (223, 0.10882529910958064), (224, 0.03487713446011812), (225, 0.005216665364920241), (226, 0.06347864485566813), (227, 0.02051299585836519), (228, 0.0067899114025746785), (229, 0.024992532382503076), (230, 0.043588522708673055), (231, 0.07151198738632011), (232, 0.06948259601126726), (233, 0.088049155438816), (234, 0.04166518235366074), (235, 0.020673872104500855), (236, 0.12743141136848), (237, 0.14229720091005077), (238, 0.013562247597104086), (239, 0.028131338876025844), (240, 0.05896510533641702), (241, 0.09933711026368001), (242, 0.06506251653996752), (243, 0.07264855287757235), (244, 0.12264890248350918), (245, 0.06360930193785791), (246, 0.09088797294419336), (247, 0.006204041439452222), (248, 0.008070836676060485), (249, 0.1454071218396351), (250, 0.060448993309559634), (251, 0.1589792063787607), (252, 0.013457531331844083), (253, 0.0068514763770170005), (254, 0.07292775156495347), (255, 0.1266505227577757), (256, 0.05391220525525821), (257, 0.005829295941104717), (258, 0.0), (259, 0.0), (260, 0.2927002165042204), (261, 0.047863176568292205), (262, 0.06291940356418654), (263, 0.004822110745328197), (264, 0.18726684507835467), (265, 0.0), (266, 0.007804935193707645), (267, 0.007971687161416717), (268, 0.1345855175634204), (269, 0.04731028722290695), (270, 0.010550282589094224), (271, 0.011150724172779247), (272, 0.007346407066761472), (273, 0.024006083326210757), (274, 0.04318653826831264), (275, 0.009983751317293297), (276, 0.17234349508818467), (277, 0.04076892531921725), (278, 0.034674328377884464), (279, 0.0), (280, 0.0), (281, 0.0), (282, 0.201877598497648), (283, 0.03952717929065837), (284, 0.1032818522608452), (285, 0.0550499457078246), (286, 0.04602775829928592), (287, 0.044816987264048515), (288, 0.11222061498781102), (289, 0.03666947331971464), (290, 0.072679007289081), (291, 0.06420728040296045), (292, 0.0), (293, 0.017994363851626605), (294, 0.0), (295, 0.11346129019121916), (296, 0.023926771625658677), (297, 0.005222458256196201), (298, 0.018982644678280303), (299, 0.009790563087350082), (300, 0.0), (301, 0.0), (302, 0.028130765683565994), (303, 0.08726199203403548), (304, 0.0212100504388964), (305, 0.06429243134275218), (306, 0.03910520317063729), (307, 0.18339943820674784), (308, 0.19985312155136084), (309, 0.0), (310, 0.04710547931668251), (311, 0.011743522467683957), (312, 0.0), (313, 0.10515859996165974), (314, 0.04541865312043931), (315, 0.07816200660072911), (316, 0.0), (317, 0.0897705889373484), (318, 0.10363248094608543), (319, 0.0)]\n"
          ]
        }
      ]
    },
    {
      "cell_type": "code",
      "metadata": {
        "colab": {
          "base_uri": "https://localhost:8080/"
        },
        "id": "mMrxw-leQNtP",
        "outputId": "c00dbfb4-28e6-469e-fbde-08d49748b8bb"
      },
      "source": [
        "len(similarity_score)"
      ],
      "execution_count": 82,
      "outputs": [
        {
          "output_type": "execute_result",
          "data": {
            "text/plain": [
              "320"
            ]
          },
          "metadata": {},
          "execution_count": 82
        }
      ]
    },
    {
      "cell_type": "code",
      "metadata": {
        "colab": {
          "base_uri": "https://localhost:8080/"
        },
        "id": "SkXgFLePQkHL",
        "outputId": "941a4789-c3ea-4b04-8463-f3ba342419a7"
      },
      "source": [
        "# sorting the courses based on their similarity score\n",
        "\n",
        "sorted_similar_movies = sorted(similarity_score, key = lambda x:x[1], reverse = True)\n",
        "print(sorted_similar_movies)"
      ],
      "execution_count": 83,
      "outputs": [
        {
          "output_type": "stream",
          "name": "stdout",
          "text": [
            "[(7, 1.0000000000000002), (138, 0.33115551059411213), (49, 0.31434143994745317), (135, 0.2938672477784605), (260, 0.2927002165042204), (195, 0.2667291654590683), (80, 0.25678342182033814), (149, 0.2485442198025443), (189, 0.23957085372683257), (221, 0.23572594657029952), (96, 0.23549201778937684), (0, 0.23278693885085067), (61, 0.23191610261478157), (282, 0.201877598497648), (308, 0.19985312155136084), (25, 0.19209073790626938), (264, 0.18726684507835467), (185, 0.18561496715192044), (307, 0.18339943820674784), (276, 0.17234349508818467), (84, 0.1595277690022893), (251, 0.1589792063787607), (12, 0.15759336457261572), (209, 0.15300947589439487), (216, 0.14749498572073788), (249, 0.1454071218396351), (64, 0.14457015572227847), (237, 0.14229720091005077), (177, 0.1390770604991466), (56, 0.13715660140701336), (268, 0.1345855175634204), (73, 0.1332744850015047), (151, 0.13169700543019222), (236, 0.12743141136848), (107, 0.12678731681450883), (255, 0.1266505227577757), (134, 0.12485951106381482), (24, 0.12423787773016381), (211, 0.1231856799110008), (244, 0.12264890248350918), (62, 0.11841488986731813), (97, 0.11530660830844347), (208, 0.11376228990366227), (295, 0.11346129019121916), (288, 0.11222061498781102), (75, 0.11176321783582777), (213, 0.11170317165309912), (222, 0.11054132817339829), (63, 0.11016921131841956), (223, 0.10882529910958064), (313, 0.10515859996165974), (90, 0.10452249239926675), (220, 0.10367697881788292), (318, 0.10363248094608543), (284, 0.1032818522608452), (148, 0.10167855598775365), (31, 0.09972571239701288), (241, 0.09933711026368001), (167, 0.09768307863814875), (83, 0.09762375509591958), (153, 0.09669644827968395), (15, 0.09630081130929827), (27, 0.09494674595820438), (188, 0.09441804107659119), (52, 0.093046673489596), (169, 0.09221721435622443), (246, 0.09088797294419336), (317, 0.0897705889373484), (45, 0.08823769241800673), (233, 0.088049155438816), (191, 0.08751724307013396), (303, 0.08726199203403548), (165, 0.0849319318830739), (85, 0.08440000352958227), (190, 0.08403423736402284), (34, 0.08354521262581764), (11, 0.08243246332038576), (66, 0.0795582769829647), (315, 0.07816200660072911), (48, 0.07724203015679107), (174, 0.07718980022005086), (99, 0.0770786039981916), (23, 0.0762302482776451), (146, 0.07486716720885263), (178, 0.07340132722451752), (116, 0.07316891493909432), (74, 0.07301817012716695), (254, 0.07292775156495347), (290, 0.072679007289081), (243, 0.07264855287757235), (88, 0.07164745827446942), (231, 0.07151198738632011), (123, 0.07010968750999462), (232, 0.06948259601126726), (57, 0.06933095664509746), (147, 0.06767849234773975), (104, 0.06677531296195434), (118, 0.06587177903366344), (242, 0.06506251653996752), (305, 0.06429243134275218), (291, 0.06420728040296045), (4, 0.06415703824173792), (127, 0.06369726654758368), (245, 0.06360930193785791), (226, 0.06347864485566813), (117, 0.06345579706981476), (262, 0.06291940356418654), (53, 0.06276556489228183), (199, 0.06264255300928416), (200, 0.06177447009674447), (3, 0.06127296866644732), (155, 0.06122992438167107), (250, 0.060448993309559634), (240, 0.05896510533641702), (210, 0.05893564479917371), (98, 0.05679105262923134), (140, 0.05653518273047766), (8, 0.0565096574599969), (32, 0.056412266464088284), (172, 0.05555730559957246), (285, 0.0550499457078246), (87, 0.05455101538433002), (26, 0.05414308039502293), (256, 0.05391220525525821), (156, 0.05302669001740018), (193, 0.05246492929275281), (41, 0.05219048145216078), (10, 0.052011193135413), (198, 0.04966299234352194), (38, 0.047965462039079435), (261, 0.047863176568292205), (269, 0.04731028722290695), (184, 0.04722850035397167), (310, 0.04710547931668251), (159, 0.046937782520784815), (115, 0.04687594345454842), (196, 0.046591683218187074), (286, 0.04602775829928592), (212, 0.0457359206188741), (197, 0.04548574157060022), (314, 0.04541865312043931), (111, 0.045181764021630835), (20, 0.04488264266133592), (287, 0.044816987264048515), (69, 0.043714008020488505), (230, 0.043588522708673055), (176, 0.04339643271368515), (274, 0.04318653826831264), (120, 0.04277613742756137), (82, 0.04267056892587068), (139, 0.04236992238210086), (207, 0.04236391270767104), (50, 0.0418319916362483), (234, 0.04166518235366074), (219, 0.041498542138017805), (277, 0.04076892531921725), (129, 0.03997984735417123), (37, 0.03995182403031077), (283, 0.03952717929065837), (180, 0.03943932494196176), (306, 0.03910520317063729), (44, 0.038565515046621986), (65, 0.03725589359990721), (289, 0.03666947331971464), (201, 0.03590103503578871), (164, 0.03536999390995724), (6, 0.035353593821795544), (186, 0.03529804377225893), (194, 0.03518350757527005), (224, 0.03487713446011812), (110, 0.03479949262221972), (278, 0.034674328377884464), (173, 0.03462759905406579), (21, 0.0329949676409229), (92, 0.0329579455687072), (77, 0.03184257304560008), (132, 0.03126484356385211), (122, 0.030925009903545686), (78, 0.029991923758681007), (76, 0.029558553104417826), (102, 0.029347523160310536), (239, 0.028131338876025844), (302, 0.028130765683565994), (13, 0.02779796600751539), (55, 0.027734902395359196), (16, 0.026674991451471376), (166, 0.026055155250365267), (114, 0.025939572915065864), (47, 0.025779483437789817), (217, 0.025695898493564615), (150, 0.025593023145887288), (22, 0.025560679582105093), (142, 0.025293490404054982), (101, 0.025134787175405914), (192, 0.025055250125684617), (68, 0.02503144905760775), (229, 0.024992532382503076), (1, 0.024618525562576234), (2, 0.024321800310143242), (175, 0.02427710277849155), (40, 0.02406920142544567), (273, 0.024006083326210757), (296, 0.023926771625658677), (17, 0.0228458369272778), (157, 0.022705771081323156), (51, 0.022604145237066196), (112, 0.021916320028742147), (162, 0.021604813735003132), (91, 0.021503988610517288), (304, 0.0212100504388964), (154, 0.021163321330830764), (163, 0.020847501480671004), (18, 0.020756561640518017), (235, 0.020673872104500855), (227, 0.02051299585836519), (14, 0.020048410542290167), (105, 0.01999468536736125), (5, 0.019184462059873456), (179, 0.019168475781717955), (298, 0.018982644678280303), (39, 0.01885133295043296), (202, 0.01881389961646778), (137, 0.01876430590524423), (19, 0.018666991992675578), (58, 0.018592523059263105), (293, 0.017994363851626605), (128, 0.017952554382965263), (113, 0.017303888208501695), (119, 0.016839701454643776), (143, 0.015469156418311826), (89, 0.01523316503520814), (171, 0.01444751633613553), (158, 0.014367158520957385), (126, 0.014347813125539781), (81, 0.014304316862629292), (121, 0.013802824316934945), (238, 0.013562247597104086), (252, 0.013457531331844083), (109, 0.013338228595373964), (33, 0.013145716710159194), (145, 0.01289819243697622), (141, 0.012735826592232031), (124, 0.01260270965451059), (29, 0.012534873419146407), (168, 0.012530685732619645), (311, 0.011743522467683957), (271, 0.011150724172779247), (270, 0.010550282589094224), (183, 0.010433636499998556), (46, 0.01000950231379276), (275, 0.009983751317293297), (299, 0.009790563087350082), (71, 0.009421426730293433), (35, 0.008692323754557143), (248, 0.008070836676060485), (267, 0.007971687161416717), (266, 0.007804935193707645), (9, 0.007669620074199825), (272, 0.007346407066761472), (187, 0.007330254197600976), (93, 0.007202768246633808), (253, 0.0068514763770170005), (79, 0.0068494915842020766), (228, 0.0067899114025746785), (60, 0.006551414409338307), (161, 0.0065478328468462), (214, 0.006540818081313216), (59, 0.006528375918963775), (95, 0.006293402609806912), (86, 0.006289153467648453), (203, 0.0062517662513270405), (144, 0.006225515595750718), (247, 0.006204041439452222), (94, 0.006043521950846679), (257, 0.005829295941104717), (297, 0.005222458256196201), (225, 0.005216665364920241), (263, 0.004822110745328197), (28, 0.0), (30, 0.0), (36, 0.0), (42, 0.0), (43, 0.0), (54, 0.0), (67, 0.0), (70, 0.0), (72, 0.0), (100, 0.0), (103, 0.0), (106, 0.0), (108, 0.0), (125, 0.0), (130, 0.0), (131, 0.0), (133, 0.0), (136, 0.0), (152, 0.0), (160, 0.0), (170, 0.0), (181, 0.0), (182, 0.0), (204, 0.0), (205, 0.0), (206, 0.0), (215, 0.0), (218, 0.0), (258, 0.0), (259, 0.0), (265, 0.0), (279, 0.0), (280, 0.0), (281, 0.0), (292, 0.0), (294, 0.0), (300, 0.0), (301, 0.0), (309, 0.0), (312, 0.0), (316, 0.0), (319, 0.0)]\n"
          ]
        }
      ]
    },
    {
      "cell_type": "code",
      "metadata": {
        "colab": {
          "base_uri": "https://localhost:8080/"
        },
        "id": "JseMqew-RW6Q",
        "outputId": "07b220cd-6db9-4df8-ac9f-4dc6dc002f86"
      },
      "source": [
        "# print the name of similar courses based on the index\n",
        "\n",
        "print('Courses suggested for you : \\n')\n",
        "\n",
        "i = 1\n",
        "\n",
        "for movie in sorted_similar_movies:\n",
        "  index = movie[0]\n",
        "  title_from_index = courses_data[courses_data.index==index]['course_title'].values[0]\n",
        "  if (i<11):\n",
        "    print(i, '.',title_from_index)\n",
        "    i+=1"
      ],
      "execution_count": 85,
      "outputs": [
        {
          "output_type": "stream",
          "name": "stdout",
          "text": [
            "Courses suggested for you : \n",
            "\n",
            "1 . Java 17 Masterclass: Start Coding in 2023\n",
            "2 . Java Programming: Complete Beginner to Advanced\n",
            "3 . Java Programming for Complete Beginners\n",
            "4 . Learn JAVA Programming - Beginner to Master\n",
            "5 . Complete Python Programming Masterclass Beginner to Advanced\n",
            "6 . Python for Data Structures, Algorithms, and Interviews!\n",
            "7 . The Complete Java Certification Course\n",
            "8 . Core Java Made Easy (Covers the latest Java 17)\n",
            "9 . Programming with Python : HandsOn Introduction for Beginners\n",
            "10 . Modern Java - Learn Java 8 Functional Features By coding it\n"
          ]
        }
      ]
    },
    {
      "cell_type": "markdown",
      "metadata": {
        "id": "KmXULXO9TZun"
      },
      "source": [
        "Movie Recommendation Sytem"
      ]
    },
    {
      "cell_type": "code",
      "metadata": {
        "colab": {
          "base_uri": "https://localhost:8080/"
        },
        "id": "QUDZfTSxTHDf",
        "outputId": "bea1a179-1a78-4bab-9b66-9aa15c8739a6"
      },
      "source": [
        "course_name = input(' Enter your favourite course name : ')\n",
        "\n",
        "index_of_the_movie = courses_data[courses_data.course_title == course_name].index.tolist()[0]\n",
        "\n",
        "similarity_score = list(enumerate(similarity[index_of_the_movie]))\n",
        "\n",
        "sorted_similar_movies = sorted(similarity_score, key = lambda x:x[1], reverse = True)\n",
        "\n",
        "print('Movies suggested for you : \\n')\n",
        "\n",
        "i = 1\n",
        "\n",
        "for movie in sorted_similar_movies:\n",
        "  index = movie[0]\n",
        "  title_from_index = courses_data[courses_data.index==index]['course_title'].values[0]\n",
        "  if (i<11):\n",
        "    print(i, '.',title_from_index)\n",
        "    i+=1"
      ],
      "execution_count": 91,
      "outputs": [
        {
          "output_type": "stream",
          "name": "stdout",
          "text": [
            " Enter your favourite course name : Complete C# Unity Game Developer 2D\n",
            "Movies suggested for you : \n",
            "\n",
            "1 . Complete C# Unity Game Developer 2D\n",
            "2 . Complete C# Unity Game Developer 3D\n",
            "3 . The Ultimate Guide to Game Development with Unity (Official)\n",
            "4 . RPG Core Combat Creator: Learn Intermediate Unity C# Coding\n",
            "5 . Unreal Engine Blueprint Game Developer\n",
            "6 . Unreal Engine 5: The Complete Beginner's Course\n",
            "7 . Unreal Engine 5 C++ Developer: Learn C++ & Make Video Games\n",
            "8 . Blender Character Creator for Video Games Design\n",
            "9 . Complete C# Masterclass\n",
            "10 . Unreal Engine 4: How to Develop Your First Two Games\n"
          ]
        }
      ]
    },
    {
      "cell_type": "code",
      "metadata": {
        "id": "dgOXLbsWUAGK"
      },
      "source": [],
      "execution_count": 90,
      "outputs": []
    }
  ]
}