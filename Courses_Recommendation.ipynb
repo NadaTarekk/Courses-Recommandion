{
  "nbformat": 4,
  "nbformat_minor": 0,
  "metadata": {
    "colab": {
      "provenance": [],
      "include_colab_link": true
    },
    "kernelspec": {
      "name": "python3",
      "display_name": "Python 3"
    },
    "language_info": {
      "name": "python"
    }
  },
  "cells": [
    {
      "cell_type": "markdown",
      "metadata": {
        "id": "view-in-github",
        "colab_type": "text"
      },
      "source": [
        "<a href=\"https://colab.research.google.com/github/NadaTarekk/Courses-Recommandion/blob/main/Courses_Recommendation.ipynb\" target=\"_parent\"><img src=\"https://colab.research.google.com/assets/colab-badge.svg\" alt=\"Open In Colab\"/></a>"
      ]
    },
    {
      "cell_type": "markdown",
      "metadata": {
        "id": "R1oRN_iiHN_7"
      },
      "source": [
        "Importing the dependencies"
      ]
    },
    {
      "cell_type": "code",
      "metadata": {
        "id": "GAGi6hrzFLOb"
      },
      "source": [
        "import numpy as np\n",
        "import pandas as pd\n",
        "from sklearn.feature_extraction.text import TfidfVectorizer\n",
        "from sklearn.metrics.pairwise import cosine_similarity"
      ],
      "execution_count": 1,
      "outputs": []
    },
    {
      "cell_type": "markdown",
      "metadata": {
        "id": "mfIW1BYVIGfP"
      },
      "source": [
        "Data Collection and Pre-Processing"
      ]
    },
    {
      "cell_type": "code",
      "metadata": {
        "id": "MOXn7CGdIGBU"
      },
      "source": [
        "# loading the data from the csv file to apandas dataframe\n",
        "courses_data = pd.read_csv('/content/Courses.csv')"
      ],
      "execution_count": 2,
      "outputs": []
    },
    {
      "cell_type": "code",
      "metadata": {
        "colab": {
          "base_uri": "https://localhost:8080/",
          "height": 573
        },
        "id": "cha03lDAIa6l",
        "outputId": "4ed80378-956c-4f14-e75f-68dbe779221a"
      },
      "source": [
        "# printing the first 5 rows of the dataframe\n",
        "courses_data.head()"
      ],
      "execution_count": 3,
      "outputs": [
        {
          "output_type": "execute_result",
          "data": {
            "text/plain": [
              "   Unnamed: 0                                        instructors  \\\n",
              "0           0                                  ['Jose Portilla']   \n",
              "1           1                                  ['Dr. Angela Yu']   \n",
              "2           2                                    ['Colt Steele']   \n",
              "3           3                                  ['Dr. Angela Yu']   \n",
              "4           4  ['Academind by Maximilian Schwarzmüller', 'Max...   \n",
              "\n",
              "                                        course_title  rating  \\\n",
              "0  The Complete Python Bootcamp From Zero to Hero...     4.6   \n",
              "1         The Complete 2023 Web Development Bootcamp     4.7   \n",
              "2                    The Web Developer Bootcamp 2023     4.7   \n",
              "3  100 Days of Code: The Complete Python Pro Boot...     4.7   \n",
              "4  React - The Complete Guide 2023 (incl. React R...     4.6   \n",
              "\n",
              "        numOfstudents                                       descriptions  \\\n",
              "0  1,823,671 students  Learn Python like a Professional  Start from t...   \n",
              "1  1,137,534 students  Become a Full-Stack Web Developer with just ON...   \n",
              "2    890,730 students  10 Hours of React just added. Become a Develop...   \n",
              "3  1,098,710 students  Master Python by building 100 projects in 100 ...   \n",
              "4    807,714 students  Dive in and learn React.js from scratch! Learn...   \n",
              "\n",
              "  languages           lastUpdated  \\\n",
              "0   English   Last updated 7/2023   \n",
              "1   English  Last updated 11/2023   \n",
              "2   English  Last updated 11/2023   \n",
              "3   English  Last updated 11/2023   \n",
              "4   English  Last updated 11/2023   \n",
              "\n",
              "                                                link       level  \\\n",
              "0  https://www.udemy.com/course/complete-python-b...  All Levels   \n",
              "1  https://www.udemy.com/course/the-complete-web-...  All Levels   \n",
              "2  https://www.udemy.com/course/the-web-developer...  All Levels   \n",
              "3     https://www.udemy.com/course/100-days-of-code/  All Levels   \n",
              "4  https://www.udemy.com/course/react-the-complet...  All Levels   \n",
              "\n",
              "                category       numOfratings  \n",
              "0  Programming Languages  (487,458 ratings)  \n",
              "1        Web Development  (340,840 ratings)  \n",
              "2        Web Development  (266,901 ratings)  \n",
              "3  Programming Languages  (254,397 ratings)  \n",
              "4  Programming Languages  (200,267 ratings)  "
            ],
            "text/html": [
              "\n",
              "  <div id=\"df-d6d69a8d-b071-4f81-9a96-0625e7a77063\" class=\"colab-df-container\">\n",
              "    <div>\n",
              "<style scoped>\n",
              "    .dataframe tbody tr th:only-of-type {\n",
              "        vertical-align: middle;\n",
              "    }\n",
              "\n",
              "    .dataframe tbody tr th {\n",
              "        vertical-align: top;\n",
              "    }\n",
              "\n",
              "    .dataframe thead th {\n",
              "        text-align: right;\n",
              "    }\n",
              "</style>\n",
              "<table border=\"1\" class=\"dataframe\">\n",
              "  <thead>\n",
              "    <tr style=\"text-align: right;\">\n",
              "      <th></th>\n",
              "      <th>Unnamed: 0</th>\n",
              "      <th>instructors</th>\n",
              "      <th>course_title</th>\n",
              "      <th>rating</th>\n",
              "      <th>numOfstudents</th>\n",
              "      <th>descriptions</th>\n",
              "      <th>languages</th>\n",
              "      <th>lastUpdated</th>\n",
              "      <th>link</th>\n",
              "      <th>level</th>\n",
              "      <th>category</th>\n",
              "      <th>numOfratings</th>\n",
              "    </tr>\n",
              "  </thead>\n",
              "  <tbody>\n",
              "    <tr>\n",
              "      <th>0</th>\n",
              "      <td>0</td>\n",
              "      <td>['Jose Portilla']</td>\n",
              "      <td>The Complete Python Bootcamp From Zero to Hero...</td>\n",
              "      <td>4.6</td>\n",
              "      <td>1,823,671 students</td>\n",
              "      <td>Learn Python like a Professional  Start from t...</td>\n",
              "      <td>English</td>\n",
              "      <td>Last updated 7/2023</td>\n",
              "      <td>https://www.udemy.com/course/complete-python-b...</td>\n",
              "      <td>All Levels</td>\n",
              "      <td>Programming Languages</td>\n",
              "      <td>(487,458 ratings)</td>\n",
              "    </tr>\n",
              "    <tr>\n",
              "      <th>1</th>\n",
              "      <td>1</td>\n",
              "      <td>['Dr. Angela Yu']</td>\n",
              "      <td>The Complete 2023 Web Development Bootcamp</td>\n",
              "      <td>4.7</td>\n",
              "      <td>1,137,534 students</td>\n",
              "      <td>Become a Full-Stack Web Developer with just ON...</td>\n",
              "      <td>English</td>\n",
              "      <td>Last updated 11/2023</td>\n",
              "      <td>https://www.udemy.com/course/the-complete-web-...</td>\n",
              "      <td>All Levels</td>\n",
              "      <td>Web Development</td>\n",
              "      <td>(340,840 ratings)</td>\n",
              "    </tr>\n",
              "    <tr>\n",
              "      <th>2</th>\n",
              "      <td>2</td>\n",
              "      <td>['Colt Steele']</td>\n",
              "      <td>The Web Developer Bootcamp 2023</td>\n",
              "      <td>4.7</td>\n",
              "      <td>890,730 students</td>\n",
              "      <td>10 Hours of React just added. Become a Develop...</td>\n",
              "      <td>English</td>\n",
              "      <td>Last updated 11/2023</td>\n",
              "      <td>https://www.udemy.com/course/the-web-developer...</td>\n",
              "      <td>All Levels</td>\n",
              "      <td>Web Development</td>\n",
              "      <td>(266,901 ratings)</td>\n",
              "    </tr>\n",
              "    <tr>\n",
              "      <th>3</th>\n",
              "      <td>3</td>\n",
              "      <td>['Dr. Angela Yu']</td>\n",
              "      <td>100 Days of Code: The Complete Python Pro Boot...</td>\n",
              "      <td>4.7</td>\n",
              "      <td>1,098,710 students</td>\n",
              "      <td>Master Python by building 100 projects in 100 ...</td>\n",
              "      <td>English</td>\n",
              "      <td>Last updated 11/2023</td>\n",
              "      <td>https://www.udemy.com/course/100-days-of-code/</td>\n",
              "      <td>All Levels</td>\n",
              "      <td>Programming Languages</td>\n",
              "      <td>(254,397 ratings)</td>\n",
              "    </tr>\n",
              "    <tr>\n",
              "      <th>4</th>\n",
              "      <td>4</td>\n",
              "      <td>['Academind by Maximilian Schwarzmüller', 'Max...</td>\n",
              "      <td>React - The Complete Guide 2023 (incl. React R...</td>\n",
              "      <td>4.6</td>\n",
              "      <td>807,714 students</td>\n",
              "      <td>Dive in and learn React.js from scratch! Learn...</td>\n",
              "      <td>English</td>\n",
              "      <td>Last updated 11/2023</td>\n",
              "      <td>https://www.udemy.com/course/react-the-complet...</td>\n",
              "      <td>All Levels</td>\n",
              "      <td>Programming Languages</td>\n",
              "      <td>(200,267 ratings)</td>\n",
              "    </tr>\n",
              "  </tbody>\n",
              "</table>\n",
              "</div>\n",
              "    <div class=\"colab-df-buttons\">\n",
              "\n",
              "  <div class=\"colab-df-container\">\n",
              "    <button class=\"colab-df-convert\" onclick=\"convertToInteractive('df-d6d69a8d-b071-4f81-9a96-0625e7a77063')\"\n",
              "            title=\"Convert this dataframe to an interactive table.\"\n",
              "            style=\"display:none;\">\n",
              "\n",
              "  <svg xmlns=\"http://www.w3.org/2000/svg\" height=\"24px\" viewBox=\"0 -960 960 960\">\n",
              "    <path d=\"M120-120v-720h720v720H120Zm60-500h600v-160H180v160Zm220 220h160v-160H400v160Zm0 220h160v-160H400v160ZM180-400h160v-160H180v160Zm440 0h160v-160H620v160ZM180-180h160v-160H180v160Zm440 0h160v-160H620v160Z\"/>\n",
              "  </svg>\n",
              "    </button>\n",
              "\n",
              "  <style>\n",
              "    .colab-df-container {\n",
              "      display:flex;\n",
              "      gap: 12px;\n",
              "    }\n",
              "\n",
              "    .colab-df-convert {\n",
              "      background-color: #E8F0FE;\n",
              "      border: none;\n",
              "      border-radius: 50%;\n",
              "      cursor: pointer;\n",
              "      display: none;\n",
              "      fill: #1967D2;\n",
              "      height: 32px;\n",
              "      padding: 0 0 0 0;\n",
              "      width: 32px;\n",
              "    }\n",
              "\n",
              "    .colab-df-convert:hover {\n",
              "      background-color: #E2EBFA;\n",
              "      box-shadow: 0px 1px 2px rgba(60, 64, 67, 0.3), 0px 1px 3px 1px rgba(60, 64, 67, 0.15);\n",
              "      fill: #174EA6;\n",
              "    }\n",
              "\n",
              "    .colab-df-buttons div {\n",
              "      margin-bottom: 4px;\n",
              "    }\n",
              "\n",
              "    [theme=dark] .colab-df-convert {\n",
              "      background-color: #3B4455;\n",
              "      fill: #D2E3FC;\n",
              "    }\n",
              "\n",
              "    [theme=dark] .colab-df-convert:hover {\n",
              "      background-color: #434B5C;\n",
              "      box-shadow: 0px 1px 3px 1px rgba(0, 0, 0, 0.15);\n",
              "      filter: drop-shadow(0px 1px 2px rgba(0, 0, 0, 0.3));\n",
              "      fill: #FFFFFF;\n",
              "    }\n",
              "  </style>\n",
              "\n",
              "    <script>\n",
              "      const buttonEl =\n",
              "        document.querySelector('#df-d6d69a8d-b071-4f81-9a96-0625e7a77063 button.colab-df-convert');\n",
              "      buttonEl.style.display =\n",
              "        google.colab.kernel.accessAllowed ? 'block' : 'none';\n",
              "\n",
              "      async function convertToInteractive(key) {\n",
              "        const element = document.querySelector('#df-d6d69a8d-b071-4f81-9a96-0625e7a77063');\n",
              "        const dataTable =\n",
              "          await google.colab.kernel.invokeFunction('convertToInteractive',\n",
              "                                                    [key], {});\n",
              "        if (!dataTable) return;\n",
              "\n",
              "        const docLinkHtml = 'Like what you see? Visit the ' +\n",
              "          '<a target=\"_blank\" href=https://colab.research.google.com/notebooks/data_table.ipynb>data table notebook</a>'\n",
              "          + ' to learn more about interactive tables.';\n",
              "        element.innerHTML = '';\n",
              "        dataTable['output_type'] = 'display_data';\n",
              "        await google.colab.output.renderOutput(dataTable, element);\n",
              "        const docLink = document.createElement('div');\n",
              "        docLink.innerHTML = docLinkHtml;\n",
              "        element.appendChild(docLink);\n",
              "      }\n",
              "    </script>\n",
              "  </div>\n",
              "\n",
              "\n",
              "<div id=\"df-59cda038-ee96-4f57-8278-dc93f8516519\">\n",
              "  <button class=\"colab-df-quickchart\" onclick=\"quickchart('df-59cda038-ee96-4f57-8278-dc93f8516519')\"\n",
              "            title=\"Suggest charts\"\n",
              "            style=\"display:none;\">\n",
              "\n",
              "<svg xmlns=\"http://www.w3.org/2000/svg\" height=\"24px\"viewBox=\"0 0 24 24\"\n",
              "     width=\"24px\">\n",
              "    <g>\n",
              "        <path d=\"M19 3H5c-1.1 0-2 .9-2 2v14c0 1.1.9 2 2 2h14c1.1 0 2-.9 2-2V5c0-1.1-.9-2-2-2zM9 17H7v-7h2v7zm4 0h-2V7h2v10zm4 0h-2v-4h2v4z\"/>\n",
              "    </g>\n",
              "</svg>\n",
              "  </button>\n",
              "\n",
              "<style>\n",
              "  .colab-df-quickchart {\n",
              "      --bg-color: #E8F0FE;\n",
              "      --fill-color: #1967D2;\n",
              "      --hover-bg-color: #E2EBFA;\n",
              "      --hover-fill-color: #174EA6;\n",
              "      --disabled-fill-color: #AAA;\n",
              "      --disabled-bg-color: #DDD;\n",
              "  }\n",
              "\n",
              "  [theme=dark] .colab-df-quickchart {\n",
              "      --bg-color: #3B4455;\n",
              "      --fill-color: #D2E3FC;\n",
              "      --hover-bg-color: #434B5C;\n",
              "      --hover-fill-color: #FFFFFF;\n",
              "      --disabled-bg-color: #3B4455;\n",
              "      --disabled-fill-color: #666;\n",
              "  }\n",
              "\n",
              "  .colab-df-quickchart {\n",
              "    background-color: var(--bg-color);\n",
              "    border: none;\n",
              "    border-radius: 50%;\n",
              "    cursor: pointer;\n",
              "    display: none;\n",
              "    fill: var(--fill-color);\n",
              "    height: 32px;\n",
              "    padding: 0;\n",
              "    width: 32px;\n",
              "  }\n",
              "\n",
              "  .colab-df-quickchart:hover {\n",
              "    background-color: var(--hover-bg-color);\n",
              "    box-shadow: 0 1px 2px rgba(60, 64, 67, 0.3), 0 1px 3px 1px rgba(60, 64, 67, 0.15);\n",
              "    fill: var(--button-hover-fill-color);\n",
              "  }\n",
              "\n",
              "  .colab-df-quickchart-complete:disabled,\n",
              "  .colab-df-quickchart-complete:disabled:hover {\n",
              "    background-color: var(--disabled-bg-color);\n",
              "    fill: var(--disabled-fill-color);\n",
              "    box-shadow: none;\n",
              "  }\n",
              "\n",
              "  .colab-df-spinner {\n",
              "    border: 2px solid var(--fill-color);\n",
              "    border-color: transparent;\n",
              "    border-bottom-color: var(--fill-color);\n",
              "    animation:\n",
              "      spin 1s steps(1) infinite;\n",
              "  }\n",
              "\n",
              "  @keyframes spin {\n",
              "    0% {\n",
              "      border-color: transparent;\n",
              "      border-bottom-color: var(--fill-color);\n",
              "      border-left-color: var(--fill-color);\n",
              "    }\n",
              "    20% {\n",
              "      border-color: transparent;\n",
              "      border-left-color: var(--fill-color);\n",
              "      border-top-color: var(--fill-color);\n",
              "    }\n",
              "    30% {\n",
              "      border-color: transparent;\n",
              "      border-left-color: var(--fill-color);\n",
              "      border-top-color: var(--fill-color);\n",
              "      border-right-color: var(--fill-color);\n",
              "    }\n",
              "    40% {\n",
              "      border-color: transparent;\n",
              "      border-right-color: var(--fill-color);\n",
              "      border-top-color: var(--fill-color);\n",
              "    }\n",
              "    60% {\n",
              "      border-color: transparent;\n",
              "      border-right-color: var(--fill-color);\n",
              "    }\n",
              "    80% {\n",
              "      border-color: transparent;\n",
              "      border-right-color: var(--fill-color);\n",
              "      border-bottom-color: var(--fill-color);\n",
              "    }\n",
              "    90% {\n",
              "      border-color: transparent;\n",
              "      border-bottom-color: var(--fill-color);\n",
              "    }\n",
              "  }\n",
              "</style>\n",
              "\n",
              "  <script>\n",
              "    async function quickchart(key) {\n",
              "      const quickchartButtonEl =\n",
              "        document.querySelector('#' + key + ' button');\n",
              "      quickchartButtonEl.disabled = true;  // To prevent multiple clicks.\n",
              "      quickchartButtonEl.classList.add('colab-df-spinner');\n",
              "      try {\n",
              "        const charts = await google.colab.kernel.invokeFunction(\n",
              "            'suggestCharts', [key], {});\n",
              "      } catch (error) {\n",
              "        console.error('Error during call to suggestCharts:', error);\n",
              "      }\n",
              "      quickchartButtonEl.classList.remove('colab-df-spinner');\n",
              "      quickchartButtonEl.classList.add('colab-df-quickchart-complete');\n",
              "    }\n",
              "    (() => {\n",
              "      let quickchartButtonEl =\n",
              "        document.querySelector('#df-59cda038-ee96-4f57-8278-dc93f8516519 button');\n",
              "      quickchartButtonEl.style.display =\n",
              "        google.colab.kernel.accessAllowed ? 'block' : 'none';\n",
              "    })();\n",
              "  </script>\n",
              "</div>\n",
              "\n",
              "    </div>\n",
              "  </div>\n"
            ],
            "application/vnd.google.colaboratory.intrinsic+json": {
              "type": "dataframe",
              "variable_name": "courses_data",
              "summary": "{\n  \"name\": \"courses_data\",\n  \"rows\": 320,\n  \"fields\": [\n    {\n      \"column\": \"Unnamed: 0\",\n      \"properties\": {\n        \"dtype\": \"number\",\n        \"std\": 92,\n        \"min\": 0,\n        \"max\": 319,\n        \"num_unique_values\": 320,\n        \"samples\": [\n          167,\n          230,\n          25\n        ],\n        \"semantic_type\": \"\",\n        \"description\": \"\"\n      }\n    },\n    {\n      \"column\": \"instructors\",\n      \"properties\": {\n        \"dtype\": \"string\",\n        \"num_unique_values\": 182,\n        \"samples\": [\n          \"[\\\"Tim Buchalka's Learn Programming Academy\\\", 'Dr. Frank Mitropoulos']\",\n          \"['Jason Taylor', 'John Myers']\",\n          \"['Khaled Alkhudari']\"\n        ],\n        \"semantic_type\": \"\",\n        \"description\": \"\"\n      }\n    },\n    {\n      \"column\": \"course_title\",\n      \"properties\": {\n        \"dtype\": \"string\",\n        \"num_unique_values\": 320,\n        \"samples\": [\n          \"Selenium WebDriver with Java for beginners\",\n          \"Data Structures A-Z : Data Structures + Algorithms Bootcamp\",\n          \"Beginning C++ Programming - From Beginner to Beyond\"\n        ],\n        \"semantic_type\": \"\",\n        \"description\": \"\"\n      }\n    },\n    {\n      \"column\": \"rating\",\n      \"properties\": {\n        \"dtype\": \"number\",\n        \"std\": 0.14147537641463065,\n        \"min\": 3.9,\n        \"max\": 4.9,\n        \"num_unique_values\": 10,\n        \"samples\": [\n          4.1,\n          4.7,\n          4.3\n        ],\n        \"semantic_type\": \"\",\n        \"description\": \"\"\n      }\n    },\n    {\n      \"column\": \"numOfstudents\",\n      \"properties\": {\n        \"dtype\": \"string\",\n        \"num_unique_values\": 320,\n        \"samples\": [\n          \"45,965 students\",\n          \"41,032 students\",\n          \"280,813 students\"\n        ],\n        \"semantic_type\": \"\",\n        \"description\": \"\"\n      }\n    },\n    {\n      \"column\": \"descriptions\",\n      \"properties\": {\n        \"dtype\": \"string\",\n        \"num_unique_values\": 320,\n        \"samples\": [\n          \"Selenium WebDriver with Java and TestNG. Tutorial designed for complete beginners in Selenium testing and automation\",\n          \"Become ace in data structures & algorithms & Crack the code interview by getting mastery in data structures & algorithms\",\n          \"Obtain Modern C++ Object-Oriented Programming (OOP) and STL skills. C++14 and C++17 covered.  C++20 info see below.\"\n        ],\n        \"semantic_type\": \"\",\n        \"description\": \"\"\n      }\n    },\n    {\n      \"column\": \"languages\",\n      \"properties\": {\n        \"dtype\": \"category\",\n        \"num_unique_values\": 1,\n        \"samples\": [\n          \"English\"\n        ],\n        \"semantic_type\": \"\",\n        \"description\": \"\"\n      }\n    },\n    {\n      \"column\": \"lastUpdated\",\n      \"properties\": {\n        \"dtype\": \"category\",\n        \"num_unique_values\": 65,\n        \"samples\": [\n          \"Last updated 6/2021\"\n        ],\n        \"semantic_type\": \"\",\n        \"description\": \"\"\n      }\n    },\n    {\n      \"column\": \"link\",\n      \"properties\": {\n        \"dtype\": \"string\",\n        \"num_unique_values\": 320,\n        \"samples\": [\n          \"https://www.udemy.com/course/selenium-for-beginners/\"\n        ],\n        \"semantic_type\": \"\",\n        \"description\": \"\"\n      }\n    },\n    {\n      \"column\": \"level\",\n      \"properties\": {\n        \"dtype\": \"category\",\n        \"num_unique_values\": 4,\n        \"samples\": [\n          \"Beginner\"\n        ],\n        \"semantic_type\": \"\",\n        \"description\": \"\"\n      }\n    },\n    {\n      \"column\": \"category\",\n      \"properties\": {\n        \"dtype\": \"category\",\n        \"num_unique_values\": 10,\n        \"samples\": [\n          \"Software Engineering\"\n        ],\n        \"semantic_type\": \"\",\n        \"description\": \"\"\n      }\n    },\n    {\n      \"column\": \"numOfratings\",\n      \"properties\": {\n        \"dtype\": \"string\",\n        \"num_unique_values\": 318,\n        \"samples\": [\n          \"(28,244 ratings)\"\n        ],\n        \"semantic_type\": \"\",\n        \"description\": \"\"\n      }\n    }\n  ]\n}"
            }
          },
          "metadata": {},
          "execution_count": 3
        }
      ]
    },
    {
      "cell_type": "code",
      "metadata": {
        "colab": {
          "base_uri": "https://localhost:8080/"
        },
        "id": "Qrtr0oQbIjwF",
        "outputId": "e5f506f1-b00a-4741-90d2-41ff5afdb2bb"
      },
      "source": [
        "# number of rows and columns in the data frame\n",
        "\n",
        "courses_data.shape"
      ],
      "execution_count": 4,
      "outputs": [
        {
          "output_type": "execute_result",
          "data": {
            "text/plain": [
              "(320, 12)"
            ]
          },
          "metadata": {},
          "execution_count": 4
        }
      ]
    },
    {
      "cell_type": "code",
      "metadata": {
        "colab": {
          "base_uri": "https://localhost:8080/"
        },
        "id": "hunvyruUJhVq",
        "outputId": "e4394ad7-84c1-4802-ec0b-ec9ee1353cef"
      },
      "source": [
        "# selecting the relevant features for recommendation\n",
        "\n",
        "selected_features = ['course_title','descriptions','category']\n",
        "print(selected_features)"
      ],
      "execution_count": 5,
      "outputs": [
        {
          "output_type": "stream",
          "name": "stdout",
          "text": [
            "['course_title', 'descriptions', 'category']\n"
          ]
        }
      ]
    },
    {
      "cell_type": "code",
      "metadata": {
        "id": "CKIVE6OWKSYk"
      },
      "source": [
        "# replacing the null valuess with null string\n",
        "\n",
        "for feature in selected_features:\n",
        "  courses_data[feature] = courses_data[feature].fillna('')"
      ],
      "execution_count": 6,
      "outputs": []
    },
    {
      "cell_type": "code",
      "metadata": {
        "id": "-AMjrRItLCO1"
      },
      "source": [
        "# combining all the selected features\n",
        "\n",
        "combined_features = courses_data['course_title']+' '+courses_data['descriptions']+' '+courses_data['category']"
      ],
      "execution_count": 7,
      "outputs": []
    },
    {
      "cell_type": "code",
      "metadata": {
        "colab": {
          "base_uri": "https://localhost:8080/"
        },
        "id": "ZYjFXx3aLwTh",
        "outputId": "4b778fc5-435b-45c6-c810-517a6cbed5f2"
      },
      "source": [
        "print(combined_features)"
      ],
      "execution_count": 8,
      "outputs": [
        {
          "output_type": "stream",
          "name": "stdout",
          "text": [
            "0      The Complete Python Bootcamp From Zero to Hero...\n",
            "1      The Complete 2023 Web Development Bootcamp Bec...\n",
            "2      The Web Developer Bootcamp 2023 10 Hours of Re...\n",
            "3      100 Days of Code: The Complete Python Pro Boot...\n",
            "4      React - The Complete Guide 2023 (incl. React R...\n",
            "                             ...                        \n",
            "315    Ultimate Rust Crash Course Rust Programming Fu...\n",
            "316    Microfrontends with React: A Complete Develope...\n",
            "317    Data Integration Fundamentals Learn how to use...\n",
            "318    Complete guide to building an app with .Net Co...\n",
            "319    Artificial Intelligence & Machine Learning for...\n",
            "Length: 320, dtype: object\n"
          ]
        }
      ]
    },
    {
      "cell_type": "code",
      "metadata": {
        "id": "BfuttC_gLyfF"
      },
      "source": [
        "# converting the text data to feature vectors\n",
        "\n",
        "vectorizer = TfidfVectorizer()"
      ],
      "execution_count": 9,
      "outputs": []
    },
    {
      "cell_type": "code",
      "metadata": {
        "id": "Leo5rQskMKxL"
      },
      "source": [
        "feature_vectors = vectorizer.fit_transform(combined_features)"
      ],
      "execution_count": 10,
      "outputs": []
    },
    {
      "cell_type": "code",
      "metadata": {
        "colab": {
          "base_uri": "https://localhost:8080/"
        },
        "id": "qNbeeMSnMb2F",
        "outputId": "87784d95-4c0f-449d-be92-819bd3acc3a5"
      },
      "source": [
        "print(feature_vectors)"
      ],
      "execution_count": 11,
      "outputs": [
        {
          "output_type": "stream",
          "name": "stdout",
          "text": [
            "  (0, 615)\t0.11157813032536336\n",
            "  (0, 844)\t0.10528820129106936\n",
            "  (0, 469)\t0.21060522591356606\n",
            "  (0, 98)\t0.18428677294878085\n",
            "  (0, 770)\t0.22026839136290827\n",
            "  (0, 1227)\t0.14276696649129322\n",
            "  (0, 272)\t0.27317134406176297\n",
            "  (0, 1182)\t0.21060522591356606\n",
            "  (0, 69)\t0.19566991919014787\n",
            "  (0, 486)\t0.2025608462627612\n",
            "  (0, 81)\t0.14431293738458287\n",
            "  (0, 143)\t0.18181677807002086\n",
            "  (0, 1024)\t0.2025608462627612\n",
            "  (0, 838)\t0.22026839136290827\n",
            "  (0, 632)\t0.21519482497951173\n",
            "  (0, 623)\t0.08259410321716769\n",
            "  (0, 535)\t0.10938891958180237\n",
            "  (0, 512)\t0.2323702724805889\n",
            "  (0, 1102)\t0.17351240744988985\n",
            "  (0, 1228)\t0.2064152502427813\n",
            "  (0, 455)\t0.24864845261044116\n",
            "  (0, 172)\t0.15090872603929\n",
            "  (0, 862)\t0.37969310124863875\n",
            "  (0, 231)\t0.10150945222488422\n",
            "  (0, 1088)\t0.2379995371597852\n",
            "  :\t:\n",
            "  (318, 334)\t0.06854522274489758\n",
            "  (318, 1185)\t0.08393537482311132\n",
            "  (318, 81)\t0.1219958176093508\n",
            "  (318, 1024)\t0.17123604094907383\n",
            "  (318, 1102)\t0.22001965030833234\n",
            "  (318, 455)\t0.10509823936530624\n",
            "  (318, 231)\t0.17162326321791097\n",
            "  (318, 1088)\t0.06706478447153853\n",
            "  (319, 622)\t0.2642268463528299\n",
            "  (319, 285)\t0.2642268463528299\n",
            "  (319, 656)\t0.24660105072106583\n",
            "  (319, 385)\t0.24660105072106583\n",
            "  (319, 558)\t0.4079277060994445\n",
            "  (319, 113)\t0.4195370751413638\n",
            "  (319, 181)\t0.20396385304972225\n",
            "  (319, 1072)\t0.24660105072106583\n",
            "  (319, 1135)\t0.18633805741795822\n",
            "  (319, 624)\t0.25971499493605393\n",
            "  (319, 648)\t0.32402249057472804\n",
            "  (319, 940)\t0.134000684433475\n",
            "  (319, 294)\t0.11425395300404614\n",
            "  (319, 443)\t0.1892118124089977\n",
            "  (319, 261)\t0.10279578606515467\n",
            "  (319, 81)\t0.06513809512837349\n",
            "  (319, 1088)\t0.07161675533270258\n"
          ]
        }
      ]
    },
    {
      "cell_type": "markdown",
      "metadata": {
        "id": "qEGga5yPMnXO"
      },
      "source": [
        "Cosine Similarity"
      ]
    },
    {
      "cell_type": "code",
      "metadata": {
        "id": "MsKYCs31MeB6"
      },
      "source": [
        "# getting the similarity scores using cosine similarity\n",
        "\n",
        "similarity = cosine_similarity(feature_vectors)"
      ],
      "execution_count": 12,
      "outputs": []
    },
    {
      "cell_type": "code",
      "metadata": {
        "colab": {
          "base_uri": "https://localhost:8080/"
        },
        "id": "46ha1PfTM-oQ",
        "outputId": "75fc980e-2656-44cb-aaba-de05ef99b78a"
      },
      "source": [
        "print(similarity)"
      ],
      "execution_count": 13,
      "outputs": [
        {
          "output_type": "stream",
          "name": "stdout",
          "text": [
            "[[1.         0.06937824 0.05721854 ... 0.07094398 0.14998272 0.02644502]\n",
            " [0.06937824 1.         0.59967904 ... 0.02138868 0.14006314 0.02456831]\n",
            " [0.05721854 0.59967904 1.         ... 0.01356227 0.1549244  0.02427219]\n",
            " ...\n",
            " [0.07094398 0.02138868 0.01356227 ... 1.         0.05503489 0.0834945 ]\n",
            " [0.14998272 0.14006314 0.1549244  ... 0.05503489 1.         0.01274954]\n",
            " [0.02644502 0.02456831 0.02427219 ... 0.0834945  0.01274954 1.        ]]\n"
          ]
        }
      ]
    },
    {
      "cell_type": "code",
      "metadata": {
        "colab": {
          "base_uri": "https://localhost:8080/"
        },
        "id": "PLkvII-wM_5I",
        "outputId": "f89a5ebf-dc20-413f-8b0b-95a910e74e36"
      },
      "source": [
        "print(similarity.shape)"
      ],
      "execution_count": 14,
      "outputs": [
        {
          "output_type": "stream",
          "name": "stdout",
          "text": [
            "(320, 320)\n"
          ]
        }
      ]
    },
    {
      "cell_type": "markdown",
      "metadata": {
        "id": "EG3JItMUWeDD"
      },
      "source": [
        "Getting the movie name from the user"
      ]
    },
    {
      "cell_type": "code",
      "metadata": {
        "colab": {
          "base_uri": "https://localhost:8080/"
        },
        "id": "bhSWJgqgNDo7",
        "outputId": "6cb8b2aa-2612-4ce6-a07a-e438223bca59"
      },
      "source": [
        "# getting the movie name from the user\n",
        "\n",
        "course_name = input(' Enter your favourite course name : ')"
      ],
      "execution_count": 15,
      "outputs": [
        {
          "name": "stdout",
          "output_type": "stream",
          "text": [
            " Enter your favourite course name : \n"
          ]
        }
      ]
    },
    {
      "cell_type": "code",
      "metadata": {
        "colab": {
          "base_uri": "https://localhost:8080/",
          "height": 200
        },
        "id": "CNXJfY-FOw1I",
        "outputId": "58fd7566-57ae-4da8-afbd-8e2a686e7b91"
      },
      "source": [
        "# finding the index of the course with title\n",
        "\n",
        "index_of_the_movie = courses_data[courses_data.course_title == course_name].index.tolist()[0]\n",
        "index_of_the_movie"
      ],
      "execution_count": 16,
      "outputs": [
        {
          "output_type": "error",
          "ename": "IndexError",
          "evalue": "list index out of range",
          "traceback": [
            "\u001b[0;31m---------------------------------------------------------------------------\u001b[0m",
            "\u001b[0;31mIndexError\u001b[0m                                Traceback (most recent call last)",
            "\u001b[0;32m<ipython-input-16-4b5b06852067>\u001b[0m in \u001b[0;36m<cell line: 3>\u001b[0;34m()\u001b[0m\n\u001b[1;32m      1\u001b[0m \u001b[0;31m# finding the index of the course with title\u001b[0m\u001b[0;34m\u001b[0m\u001b[0;34m\u001b[0m\u001b[0m\n\u001b[1;32m      2\u001b[0m \u001b[0;34m\u001b[0m\u001b[0m\n\u001b[0;32m----> 3\u001b[0;31m \u001b[0mindex_of_the_movie\u001b[0m \u001b[0;34m=\u001b[0m \u001b[0mcourses_data\u001b[0m\u001b[0;34m[\u001b[0m\u001b[0mcourses_data\u001b[0m\u001b[0;34m.\u001b[0m\u001b[0mcourse_title\u001b[0m \u001b[0;34m==\u001b[0m \u001b[0mcourse_name\u001b[0m\u001b[0;34m]\u001b[0m\u001b[0;34m.\u001b[0m\u001b[0mindex\u001b[0m\u001b[0;34m.\u001b[0m\u001b[0mtolist\u001b[0m\u001b[0;34m(\u001b[0m\u001b[0;34m)\u001b[0m\u001b[0;34m[\u001b[0m\u001b[0;36m0\u001b[0m\u001b[0;34m]\u001b[0m\u001b[0;34m\u001b[0m\u001b[0;34m\u001b[0m\u001b[0m\n\u001b[0m\u001b[1;32m      4\u001b[0m \u001b[0mindex_of_the_movie\u001b[0m\u001b[0;34m\u001b[0m\u001b[0;34m\u001b[0m\u001b[0m\n",
            "\u001b[0;31mIndexError\u001b[0m: list index out of range"
          ]
        }
      ]
    },
    {
      "cell_type": "code",
      "metadata": {
        "id": "dyUeQZpvPbkx"
      },
      "source": [
        "# getting a list of similar courses\n",
        "\n",
        "similarity_score = list(enumerate(similarity[index_of_the_movie]))\n",
        "print(similarity_score)"
      ],
      "execution_count": null,
      "outputs": []
    },
    {
      "cell_type": "code",
      "metadata": {
        "id": "mMrxw-leQNtP"
      },
      "source": [
        "len(similarity_score)"
      ],
      "execution_count": null,
      "outputs": []
    },
    {
      "cell_type": "code",
      "metadata": {
        "id": "SkXgFLePQkHL"
      },
      "source": [
        "# sorting the courses based on their similarity score\n",
        "\n",
        "sorted_similar_movies = sorted(similarity_score, key = lambda x:x[1], reverse = True)\n",
        "print(sorted_similar_movies)"
      ],
      "execution_count": null,
      "outputs": []
    },
    {
      "cell_type": "code",
      "metadata": {
        "colab": {
          "base_uri": "https://localhost:8080/",
          "height": 255
        },
        "id": "JseMqew-RW6Q",
        "outputId": "c384ab7a-65e8-4e12-afb2-feba959f550e"
      },
      "source": [
        "# print the name of similar courses based on the index\n",
        "\n",
        "print('Courses suggested for you : \\n')\n",
        "\n",
        "i = 1\n",
        "\n",
        "for movie in sorted_similar_movies:\n",
        "  index = movie[0]\n",
        "  title_from_index = courses_data[courses_data.index==index]['course_title'].values[0]\n",
        "  if (i<11):\n",
        "    print(i, '.',title_from_index)\n",
        "    i+=1"
      ],
      "execution_count": 17,
      "outputs": [
        {
          "output_type": "stream",
          "name": "stdout",
          "text": [
            "Courses suggested for you : \n",
            "\n"
          ]
        },
        {
          "output_type": "error",
          "ename": "NameError",
          "evalue": "name 'sorted_similar_movies' is not defined",
          "traceback": [
            "\u001b[0;31m---------------------------------------------------------------------------\u001b[0m",
            "\u001b[0;31mNameError\u001b[0m                                 Traceback (most recent call last)",
            "\u001b[0;32m<ipython-input-17-89a72733d79e>\u001b[0m in \u001b[0;36m<cell line: 7>\u001b[0;34m()\u001b[0m\n\u001b[1;32m      5\u001b[0m \u001b[0mi\u001b[0m \u001b[0;34m=\u001b[0m \u001b[0;36m1\u001b[0m\u001b[0;34m\u001b[0m\u001b[0;34m\u001b[0m\u001b[0m\n\u001b[1;32m      6\u001b[0m \u001b[0;34m\u001b[0m\u001b[0m\n\u001b[0;32m----> 7\u001b[0;31m \u001b[0;32mfor\u001b[0m \u001b[0mmovie\u001b[0m \u001b[0;32min\u001b[0m \u001b[0msorted_similar_movies\u001b[0m\u001b[0;34m:\u001b[0m\u001b[0;34m\u001b[0m\u001b[0;34m\u001b[0m\u001b[0m\n\u001b[0m\u001b[1;32m      8\u001b[0m   \u001b[0mindex\u001b[0m \u001b[0;34m=\u001b[0m \u001b[0mmovie\u001b[0m\u001b[0;34m[\u001b[0m\u001b[0;36m0\u001b[0m\u001b[0;34m]\u001b[0m\u001b[0;34m\u001b[0m\u001b[0;34m\u001b[0m\u001b[0m\n\u001b[1;32m      9\u001b[0m   \u001b[0mtitle_from_index\u001b[0m \u001b[0;34m=\u001b[0m \u001b[0mcourses_data\u001b[0m\u001b[0;34m[\u001b[0m\u001b[0mcourses_data\u001b[0m\u001b[0;34m.\u001b[0m\u001b[0mindex\u001b[0m\u001b[0;34m==\u001b[0m\u001b[0mindex\u001b[0m\u001b[0;34m]\u001b[0m\u001b[0;34m[\u001b[0m\u001b[0;34m'course_title'\u001b[0m\u001b[0;34m]\u001b[0m\u001b[0;34m.\u001b[0m\u001b[0mvalues\u001b[0m\u001b[0;34m[\u001b[0m\u001b[0;36m0\u001b[0m\u001b[0;34m]\u001b[0m\u001b[0;34m\u001b[0m\u001b[0;34m\u001b[0m\u001b[0m\n",
            "\u001b[0;31mNameError\u001b[0m: name 'sorted_similar_movies' is not defined"
          ]
        }
      ]
    },
    {
      "cell_type": "markdown",
      "metadata": {
        "id": "KmXULXO9TZun"
      },
      "source": [
        "Movie Recommendation Sytem"
      ]
    },
    {
      "cell_type": "code",
      "metadata": {
        "colab": {
          "base_uri": "https://localhost:8080/"
        },
        "id": "QUDZfTSxTHDf",
        "outputId": "581681cc-6850-42f8-ebe6-65f3de4933f5"
      },
      "source": [
        "course_name = input(' Enter your favourite course name : ')\n",
        "\n",
        "index_of_the_movie = courses_data[courses_data.course_title == course_name].index.tolist()[0]\n",
        "\n",
        "similarity_score = list(enumerate(similarity[index_of_the_movie]))\n",
        "\n",
        "sorted_similar_movies = sorted(similarity_score, key = lambda x:x[1], reverse = True)\n",
        "\n",
        "print('Movies suggested for you : \\n')\n",
        "\n",
        "i = 2\n",
        "\n",
        "for movie in sorted_similar_movies:\n",
        "  index = movie[0]\n",
        "  title_from_index = courses_data[courses_data.index==index]['course_title'].values[0]\n",
        "  if (i<10):\n",
        "    print(i, '.',title_from_index)\n",
        "    i+=1"
      ],
      "execution_count": 20,
      "outputs": [
        {
          "output_type": "stream",
          "name": "stdout",
          "text": [
            " Enter your favourite course name : Artificial Intelligence & Machine Learning for Business\n",
            "Movies suggested for you : \n",
            "\n",
            "2 . Artificial Intelligence & Machine Learning for Business\n",
            "3 . Complete Machine Learning & Data Science Bootcamp 2023\n",
            "4 . Machine Learning for Absolute Beginners - Level 1\n",
            "5 . Tensorflow 2.0: Deep Learning and Artificial Intelligence\n",
            "6 . Artificial Intelligence A-Z 2023: Build 5 AI (incl. ChatGPT)\n",
            "7 . Data Science and Machine Learning Bootcamp with R\n",
            "8 . The Complete Machine Learning Course with Python\n",
            "9 . Introduction to Machine Learning for Data Science\n"
          ]
        }
      ]
    },
    {
      "cell_type": "code",
      "metadata": {
        "id": "dgOXLbsWUAGK"
      },
      "source": [],
      "execution_count": 19,
      "outputs": []
    }
  ]
}