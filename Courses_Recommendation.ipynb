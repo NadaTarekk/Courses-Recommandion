{
  "nbformat": 4,
  "nbformat_minor": 0,
  "metadata": {
    "colab": {
      "provenance": [],
      "include_colab_link": true
    },
    "kernelspec": {
      "name": "python3",
      "display_name": "Python 3"
    },
    "language_info": {
      "name": "python"
    }
  },
  "cells": [
    {
      "cell_type": "markdown",
      "metadata": {
        "id": "view-in-github",
        "colab_type": "text"
      },
      "source": [
        "<a href=\"https://colab.research.google.com/github/NadaTarekk/Courses-Recommandion/blob/main/Courses_Recommendation.ipynb\" target=\"_parent\"><img src=\"https://colab.research.google.com/assets/colab-badge.svg\" alt=\"Open In Colab\"/></a>"
      ]
    },
    {
      "cell_type": "markdown",
      "metadata": {
        "id": "R1oRN_iiHN_7"
      },
      "source": [
        "Importing the dependencies"
      ]
    },
    {
      "cell_type": "code",
      "metadata": {
        "id": "GAGi6hrzFLOb"
      },
      "source": [
        "import numpy as np\n",
        "import pandas as pd\n",
        "from sklearn.feature_extraction.text import TfidfVectorizer\n",
        "from sklearn.metrics.pairwise import cosine_similarity"
      ],
      "execution_count": 1,
      "outputs": []
    },
    {
      "cell_type": "markdown",
      "metadata": {
        "id": "mfIW1BYVIGfP"
      },
      "source": [
        "Data Collection and Pre-Processing"
      ]
    },
    {
      "cell_type": "code",
      "metadata": {
        "id": "MOXn7CGdIGBU"
      },
      "source": [
        "# loading the data from the csv file to apandas dataframe\n",
        "courses_data = pd.read_csv('/content/Courses.csv')"
      ],
      "execution_count": 2,
      "outputs": []
    },
    {
      "cell_type": "code",
      "metadata": {
        "colab": {
          "base_uri": "https://localhost:8080/",
          "height": 573
        },
        "id": "cha03lDAIa6l",
        "outputId": "6bb41384-f03f-4591-b56d-0e6e8f20286f"
      },
      "source": [
        "# printing the first 5 rows of the dataframe\n",
        "courses_data.head()"
      ],
      "execution_count": 3,
      "outputs": [
        {
          "output_type": "execute_result",
          "data": {
            "text/plain": [
              "   Unnamed: 0                                        instructors  \\\n",
              "0           0                                  ['Jose Portilla']   \n",
              "1           1                                  ['Dr. Angela Yu']   \n",
              "2           2                                    ['Colt Steele']   \n",
              "3           3                                  ['Dr. Angela Yu']   \n",
              "4           4  ['Academind by Maximilian Schwarzmüller', 'Max...   \n",
              "\n",
              "                                        course_title  rating  \\\n",
              "0  The Complete Python Bootcamp From Zero to Hero...     4.6   \n",
              "1         The Complete 2023 Web Development Bootcamp     4.7   \n",
              "2                    The Web Developer Bootcamp 2023     4.7   \n",
              "3  100 Days of Code: The Complete Python Pro Boot...     4.7   \n",
              "4  React - The Complete Guide 2023 (incl. React R...     4.6   \n",
              "\n",
              "        numOfstudents                                       descriptions  \\\n",
              "0  1,823,671 students  Learn Python like a Professional  Start from t...   \n",
              "1  1,137,534 students  Become a Full-Stack Web Developer with just ON...   \n",
              "2    890,730 students  10 Hours of React just added. Become a Develop...   \n",
              "3  1,098,710 students  Master Python by building 100 projects in 100 ...   \n",
              "4    807,714 students  Dive in and learn React.js from scratch! Learn...   \n",
              "\n",
              "  languages           lastUpdated  \\\n",
              "0   English   Last updated 7/2023   \n",
              "1   English  Last updated 11/2023   \n",
              "2   English  Last updated 11/2023   \n",
              "3   English  Last updated 11/2023   \n",
              "4   English  Last updated 11/2023   \n",
              "\n",
              "                                                link       level  \\\n",
              "0  https://www.udemy.com/course/complete-python-b...  All Levels   \n",
              "1  https://www.udemy.com/course/the-complete-web-...  All Levels   \n",
              "2  https://www.udemy.com/course/the-web-developer...  All Levels   \n",
              "3     https://www.udemy.com/course/100-days-of-code/  All Levels   \n",
              "4  https://www.udemy.com/course/react-the-complet...  All Levels   \n",
              "\n",
              "                category       numOfratings  \n",
              "0  Programming Languages  (487,458 ratings)  \n",
              "1        Web Development  (340,840 ratings)  \n",
              "2        Web Development  (266,901 ratings)  \n",
              "3  Programming Languages  (254,397 ratings)  \n",
              "4  Programming Languages  (200,267 ratings)  "
            ],
            "text/html": [
              "\n",
              "  <div id=\"df-a5053a18-dfab-4674-aa7b-d0563870d09f\" class=\"colab-df-container\">\n",
              "    <div>\n",
              "<style scoped>\n",
              "    .dataframe tbody tr th:only-of-type {\n",
              "        vertical-align: middle;\n",
              "    }\n",
              "\n",
              "    .dataframe tbody tr th {\n",
              "        vertical-align: top;\n",
              "    }\n",
              "\n",
              "    .dataframe thead th {\n",
              "        text-align: right;\n",
              "    }\n",
              "</style>\n",
              "<table border=\"1\" class=\"dataframe\">\n",
              "  <thead>\n",
              "    <tr style=\"text-align: right;\">\n",
              "      <th></th>\n",
              "      <th>Unnamed: 0</th>\n",
              "      <th>instructors</th>\n",
              "      <th>course_title</th>\n",
              "      <th>rating</th>\n",
              "      <th>numOfstudents</th>\n",
              "      <th>descriptions</th>\n",
              "      <th>languages</th>\n",
              "      <th>lastUpdated</th>\n",
              "      <th>link</th>\n",
              "      <th>level</th>\n",
              "      <th>category</th>\n",
              "      <th>numOfratings</th>\n",
              "    </tr>\n",
              "  </thead>\n",
              "  <tbody>\n",
              "    <tr>\n",
              "      <th>0</th>\n",
              "      <td>0</td>\n",
              "      <td>['Jose Portilla']</td>\n",
              "      <td>The Complete Python Bootcamp From Zero to Hero...</td>\n",
              "      <td>4.6</td>\n",
              "      <td>1,823,671 students</td>\n",
              "      <td>Learn Python like a Professional  Start from t...</td>\n",
              "      <td>English</td>\n",
              "      <td>Last updated 7/2023</td>\n",
              "      <td>https://www.udemy.com/course/complete-python-b...</td>\n",
              "      <td>All Levels</td>\n",
              "      <td>Programming Languages</td>\n",
              "      <td>(487,458 ratings)</td>\n",
              "    </tr>\n",
              "    <tr>\n",
              "      <th>1</th>\n",
              "      <td>1</td>\n",
              "      <td>['Dr. Angela Yu']</td>\n",
              "      <td>The Complete 2023 Web Development Bootcamp</td>\n",
              "      <td>4.7</td>\n",
              "      <td>1,137,534 students</td>\n",
              "      <td>Become a Full-Stack Web Developer with just ON...</td>\n",
              "      <td>English</td>\n",
              "      <td>Last updated 11/2023</td>\n",
              "      <td>https://www.udemy.com/course/the-complete-web-...</td>\n",
              "      <td>All Levels</td>\n",
              "      <td>Web Development</td>\n",
              "      <td>(340,840 ratings)</td>\n",
              "    </tr>\n",
              "    <tr>\n",
              "      <th>2</th>\n",
              "      <td>2</td>\n",
              "      <td>['Colt Steele']</td>\n",
              "      <td>The Web Developer Bootcamp 2023</td>\n",
              "      <td>4.7</td>\n",
              "      <td>890,730 students</td>\n",
              "      <td>10 Hours of React just added. Become a Develop...</td>\n",
              "      <td>English</td>\n",
              "      <td>Last updated 11/2023</td>\n",
              "      <td>https://www.udemy.com/course/the-web-developer...</td>\n",
              "      <td>All Levels</td>\n",
              "      <td>Web Development</td>\n",
              "      <td>(266,901 ratings)</td>\n",
              "    </tr>\n",
              "    <tr>\n",
              "      <th>3</th>\n",
              "      <td>3</td>\n",
              "      <td>['Dr. Angela Yu']</td>\n",
              "      <td>100 Days of Code: The Complete Python Pro Boot...</td>\n",
              "      <td>4.7</td>\n",
              "      <td>1,098,710 students</td>\n",
              "      <td>Master Python by building 100 projects in 100 ...</td>\n",
              "      <td>English</td>\n",
              "      <td>Last updated 11/2023</td>\n",
              "      <td>https://www.udemy.com/course/100-days-of-code/</td>\n",
              "      <td>All Levels</td>\n",
              "      <td>Programming Languages</td>\n",
              "      <td>(254,397 ratings)</td>\n",
              "    </tr>\n",
              "    <tr>\n",
              "      <th>4</th>\n",
              "      <td>4</td>\n",
              "      <td>['Academind by Maximilian Schwarzmüller', 'Max...</td>\n",
              "      <td>React - The Complete Guide 2023 (incl. React R...</td>\n",
              "      <td>4.6</td>\n",
              "      <td>807,714 students</td>\n",
              "      <td>Dive in and learn React.js from scratch! Learn...</td>\n",
              "      <td>English</td>\n",
              "      <td>Last updated 11/2023</td>\n",
              "      <td>https://www.udemy.com/course/react-the-complet...</td>\n",
              "      <td>All Levels</td>\n",
              "      <td>Programming Languages</td>\n",
              "      <td>(200,267 ratings)</td>\n",
              "    </tr>\n",
              "  </tbody>\n",
              "</table>\n",
              "</div>\n",
              "    <div class=\"colab-df-buttons\">\n",
              "\n",
              "  <div class=\"colab-df-container\">\n",
              "    <button class=\"colab-df-convert\" onclick=\"convertToInteractive('df-a5053a18-dfab-4674-aa7b-d0563870d09f')\"\n",
              "            title=\"Convert this dataframe to an interactive table.\"\n",
              "            style=\"display:none;\">\n",
              "\n",
              "  <svg xmlns=\"http://www.w3.org/2000/svg\" height=\"24px\" viewBox=\"0 -960 960 960\">\n",
              "    <path d=\"M120-120v-720h720v720H120Zm60-500h600v-160H180v160Zm220 220h160v-160H400v160Zm0 220h160v-160H400v160ZM180-400h160v-160H180v160Zm440 0h160v-160H620v160ZM180-180h160v-160H180v160Zm440 0h160v-160H620v160Z\"/>\n",
              "  </svg>\n",
              "    </button>\n",
              "\n",
              "  <style>\n",
              "    .colab-df-container {\n",
              "      display:flex;\n",
              "      gap: 12px;\n",
              "    }\n",
              "\n",
              "    .colab-df-convert {\n",
              "      background-color: #E8F0FE;\n",
              "      border: none;\n",
              "      border-radius: 50%;\n",
              "      cursor: pointer;\n",
              "      display: none;\n",
              "      fill: #1967D2;\n",
              "      height: 32px;\n",
              "      padding: 0 0 0 0;\n",
              "      width: 32px;\n",
              "    }\n",
              "\n",
              "    .colab-df-convert:hover {\n",
              "      background-color: #E2EBFA;\n",
              "      box-shadow: 0px 1px 2px rgba(60, 64, 67, 0.3), 0px 1px 3px 1px rgba(60, 64, 67, 0.15);\n",
              "      fill: #174EA6;\n",
              "    }\n",
              "\n",
              "    .colab-df-buttons div {\n",
              "      margin-bottom: 4px;\n",
              "    }\n",
              "\n",
              "    [theme=dark] .colab-df-convert {\n",
              "      background-color: #3B4455;\n",
              "      fill: #D2E3FC;\n",
              "    }\n",
              "\n",
              "    [theme=dark] .colab-df-convert:hover {\n",
              "      background-color: #434B5C;\n",
              "      box-shadow: 0px 1px 3px 1px rgba(0, 0, 0, 0.15);\n",
              "      filter: drop-shadow(0px 1px 2px rgba(0, 0, 0, 0.3));\n",
              "      fill: #FFFFFF;\n",
              "    }\n",
              "  </style>\n",
              "\n",
              "    <script>\n",
              "      const buttonEl =\n",
              "        document.querySelector('#df-a5053a18-dfab-4674-aa7b-d0563870d09f button.colab-df-convert');\n",
              "      buttonEl.style.display =\n",
              "        google.colab.kernel.accessAllowed ? 'block' : 'none';\n",
              "\n",
              "      async function convertToInteractive(key) {\n",
              "        const element = document.querySelector('#df-a5053a18-dfab-4674-aa7b-d0563870d09f');\n",
              "        const dataTable =\n",
              "          await google.colab.kernel.invokeFunction('convertToInteractive',\n",
              "                                                    [key], {});\n",
              "        if (!dataTable) return;\n",
              "\n",
              "        const docLinkHtml = 'Like what you see? Visit the ' +\n",
              "          '<a target=\"_blank\" href=https://colab.research.google.com/notebooks/data_table.ipynb>data table notebook</a>'\n",
              "          + ' to learn more about interactive tables.';\n",
              "        element.innerHTML = '';\n",
              "        dataTable['output_type'] = 'display_data';\n",
              "        await google.colab.output.renderOutput(dataTable, element);\n",
              "        const docLink = document.createElement('div');\n",
              "        docLink.innerHTML = docLinkHtml;\n",
              "        element.appendChild(docLink);\n",
              "      }\n",
              "    </script>\n",
              "  </div>\n",
              "\n",
              "\n",
              "<div id=\"df-7d779adf-989e-4b56-ae13-a304a31dcd8d\">\n",
              "  <button class=\"colab-df-quickchart\" onclick=\"quickchart('df-7d779adf-989e-4b56-ae13-a304a31dcd8d')\"\n",
              "            title=\"Suggest charts\"\n",
              "            style=\"display:none;\">\n",
              "\n",
              "<svg xmlns=\"http://www.w3.org/2000/svg\" height=\"24px\"viewBox=\"0 0 24 24\"\n",
              "     width=\"24px\">\n",
              "    <g>\n",
              "        <path d=\"M19 3H5c-1.1 0-2 .9-2 2v14c0 1.1.9 2 2 2h14c1.1 0 2-.9 2-2V5c0-1.1-.9-2-2-2zM9 17H7v-7h2v7zm4 0h-2V7h2v10zm4 0h-2v-4h2v4z\"/>\n",
              "    </g>\n",
              "</svg>\n",
              "  </button>\n",
              "\n",
              "<style>\n",
              "  .colab-df-quickchart {\n",
              "      --bg-color: #E8F0FE;\n",
              "      --fill-color: #1967D2;\n",
              "      --hover-bg-color: #E2EBFA;\n",
              "      --hover-fill-color: #174EA6;\n",
              "      --disabled-fill-color: #AAA;\n",
              "      --disabled-bg-color: #DDD;\n",
              "  }\n",
              "\n",
              "  [theme=dark] .colab-df-quickchart {\n",
              "      --bg-color: #3B4455;\n",
              "      --fill-color: #D2E3FC;\n",
              "      --hover-bg-color: #434B5C;\n",
              "      --hover-fill-color: #FFFFFF;\n",
              "      --disabled-bg-color: #3B4455;\n",
              "      --disabled-fill-color: #666;\n",
              "  }\n",
              "\n",
              "  .colab-df-quickchart {\n",
              "    background-color: var(--bg-color);\n",
              "    border: none;\n",
              "    border-radius: 50%;\n",
              "    cursor: pointer;\n",
              "    display: none;\n",
              "    fill: var(--fill-color);\n",
              "    height: 32px;\n",
              "    padding: 0;\n",
              "    width: 32px;\n",
              "  }\n",
              "\n",
              "  .colab-df-quickchart:hover {\n",
              "    background-color: var(--hover-bg-color);\n",
              "    box-shadow: 0 1px 2px rgba(60, 64, 67, 0.3), 0 1px 3px 1px rgba(60, 64, 67, 0.15);\n",
              "    fill: var(--button-hover-fill-color);\n",
              "  }\n",
              "\n",
              "  .colab-df-quickchart-complete:disabled,\n",
              "  .colab-df-quickchart-complete:disabled:hover {\n",
              "    background-color: var(--disabled-bg-color);\n",
              "    fill: var(--disabled-fill-color);\n",
              "    box-shadow: none;\n",
              "  }\n",
              "\n",
              "  .colab-df-spinner {\n",
              "    border: 2px solid var(--fill-color);\n",
              "    border-color: transparent;\n",
              "    border-bottom-color: var(--fill-color);\n",
              "    animation:\n",
              "      spin 1s steps(1) infinite;\n",
              "  }\n",
              "\n",
              "  @keyframes spin {\n",
              "    0% {\n",
              "      border-color: transparent;\n",
              "      border-bottom-color: var(--fill-color);\n",
              "      border-left-color: var(--fill-color);\n",
              "    }\n",
              "    20% {\n",
              "      border-color: transparent;\n",
              "      border-left-color: var(--fill-color);\n",
              "      border-top-color: var(--fill-color);\n",
              "    }\n",
              "    30% {\n",
              "      border-color: transparent;\n",
              "      border-left-color: var(--fill-color);\n",
              "      border-top-color: var(--fill-color);\n",
              "      border-right-color: var(--fill-color);\n",
              "    }\n",
              "    40% {\n",
              "      border-color: transparent;\n",
              "      border-right-color: var(--fill-color);\n",
              "      border-top-color: var(--fill-color);\n",
              "    }\n",
              "    60% {\n",
              "      border-color: transparent;\n",
              "      border-right-color: var(--fill-color);\n",
              "    }\n",
              "    80% {\n",
              "      border-color: transparent;\n",
              "      border-right-color: var(--fill-color);\n",
              "      border-bottom-color: var(--fill-color);\n",
              "    }\n",
              "    90% {\n",
              "      border-color: transparent;\n",
              "      border-bottom-color: var(--fill-color);\n",
              "    }\n",
              "  }\n",
              "</style>\n",
              "\n",
              "  <script>\n",
              "    async function quickchart(key) {\n",
              "      const quickchartButtonEl =\n",
              "        document.querySelector('#' + key + ' button');\n",
              "      quickchartButtonEl.disabled = true;  // To prevent multiple clicks.\n",
              "      quickchartButtonEl.classList.add('colab-df-spinner');\n",
              "      try {\n",
              "        const charts = await google.colab.kernel.invokeFunction(\n",
              "            'suggestCharts', [key], {});\n",
              "      } catch (error) {\n",
              "        console.error('Error during call to suggestCharts:', error);\n",
              "      }\n",
              "      quickchartButtonEl.classList.remove('colab-df-spinner');\n",
              "      quickchartButtonEl.classList.add('colab-df-quickchart-complete');\n",
              "    }\n",
              "    (() => {\n",
              "      let quickchartButtonEl =\n",
              "        document.querySelector('#df-7d779adf-989e-4b56-ae13-a304a31dcd8d button');\n",
              "      quickchartButtonEl.style.display =\n",
              "        google.colab.kernel.accessAllowed ? 'block' : 'none';\n",
              "    })();\n",
              "  </script>\n",
              "</div>\n",
              "\n",
              "    </div>\n",
              "  </div>\n"
            ],
            "application/vnd.google.colaboratory.intrinsic+json": {
              "type": "dataframe",
              "variable_name": "courses_data",
              "summary": "{\n  \"name\": \"courses_data\",\n  \"rows\": 320,\n  \"fields\": [\n    {\n      \"column\": \"Unnamed: 0\",\n      \"properties\": {\n        \"dtype\": \"number\",\n        \"std\": 92,\n        \"min\": 0,\n        \"max\": 319,\n        \"num_unique_values\": 320,\n        \"samples\": [\n          167,\n          230,\n          25\n        ],\n        \"semantic_type\": \"\",\n        \"description\": \"\"\n      }\n    },\n    {\n      \"column\": \"instructors\",\n      \"properties\": {\n        \"dtype\": \"string\",\n        \"num_unique_values\": 182,\n        \"samples\": [\n          \"[\\\"Tim Buchalka's Learn Programming Academy\\\", 'Dr. Frank Mitropoulos']\",\n          \"['Jason Taylor', 'John Myers']\",\n          \"['Khaled Alkhudari']\"\n        ],\n        \"semantic_type\": \"\",\n        \"description\": \"\"\n      }\n    },\n    {\n      \"column\": \"course_title\",\n      \"properties\": {\n        \"dtype\": \"string\",\n        \"num_unique_values\": 320,\n        \"samples\": [\n          \"Selenium WebDriver with Java for beginners\",\n          \"Data Structures A-Z : Data Structures + Algorithms Bootcamp\",\n          \"Beginning C++ Programming - From Beginner to Beyond\"\n        ],\n        \"semantic_type\": \"\",\n        \"description\": \"\"\n      }\n    },\n    {\n      \"column\": \"rating\",\n      \"properties\": {\n        \"dtype\": \"number\",\n        \"std\": 0.14147537641463065,\n        \"min\": 3.9,\n        \"max\": 4.9,\n        \"num_unique_values\": 10,\n        \"samples\": [\n          4.1,\n          4.7,\n          4.3\n        ],\n        \"semantic_type\": \"\",\n        \"description\": \"\"\n      }\n    },\n    {\n      \"column\": \"numOfstudents\",\n      \"properties\": {\n        \"dtype\": \"string\",\n        \"num_unique_values\": 320,\n        \"samples\": [\n          \"45,965 students\",\n          \"41,032 students\",\n          \"280,813 students\"\n        ],\n        \"semantic_type\": \"\",\n        \"description\": \"\"\n      }\n    },\n    {\n      \"column\": \"descriptions\",\n      \"properties\": {\n        \"dtype\": \"string\",\n        \"num_unique_values\": 320,\n        \"samples\": [\n          \"Selenium WebDriver with Java and TestNG. Tutorial designed for complete beginners in Selenium testing and automation\",\n          \"Become ace in data structures & algorithms & Crack the code interview by getting mastery in data structures & algorithms\",\n          \"Obtain Modern C++ Object-Oriented Programming (OOP) and STL skills. C++14 and C++17 covered.  C++20 info see below.\"\n        ],\n        \"semantic_type\": \"\",\n        \"description\": \"\"\n      }\n    },\n    {\n      \"column\": \"languages\",\n      \"properties\": {\n        \"dtype\": \"category\",\n        \"num_unique_values\": 1,\n        \"samples\": [\n          \"English\"\n        ],\n        \"semantic_type\": \"\",\n        \"description\": \"\"\n      }\n    },\n    {\n      \"column\": \"lastUpdated\",\n      \"properties\": {\n        \"dtype\": \"category\",\n        \"num_unique_values\": 65,\n        \"samples\": [\n          \"Last updated 6/2021\"\n        ],\n        \"semantic_type\": \"\",\n        \"description\": \"\"\n      }\n    },\n    {\n      \"column\": \"link\",\n      \"properties\": {\n        \"dtype\": \"string\",\n        \"num_unique_values\": 320,\n        \"samples\": [\n          \"https://www.udemy.com/course/selenium-for-beginners/\"\n        ],\n        \"semantic_type\": \"\",\n        \"description\": \"\"\n      }\n    },\n    {\n      \"column\": \"level\",\n      \"properties\": {\n        \"dtype\": \"category\",\n        \"num_unique_values\": 4,\n        \"samples\": [\n          \"Beginner\"\n        ],\n        \"semantic_type\": \"\",\n        \"description\": \"\"\n      }\n    },\n    {\n      \"column\": \"category\",\n      \"properties\": {\n        \"dtype\": \"category\",\n        \"num_unique_values\": 10,\n        \"samples\": [\n          \"Software Engineering\"\n        ],\n        \"semantic_type\": \"\",\n        \"description\": \"\"\n      }\n    },\n    {\n      \"column\": \"numOfratings\",\n      \"properties\": {\n        \"dtype\": \"string\",\n        \"num_unique_values\": 318,\n        \"samples\": [\n          \"(28,244 ratings)\"\n        ],\n        \"semantic_type\": \"\",\n        \"description\": \"\"\n      }\n    }\n  ]\n}"
            }
          },
          "metadata": {},
          "execution_count": 3
        }
      ]
    },
    {
      "cell_type": "code",
      "metadata": {
        "colab": {
          "base_uri": "https://localhost:8080/"
        },
        "id": "Qrtr0oQbIjwF",
        "outputId": "d68d603e-59a5-4ca4-9b55-f7b05563bfc1"
      },
      "source": [
        "# number of rows and columns in the data frame\n",
        "\n",
        "courses_data.shape"
      ],
      "execution_count": 4,
      "outputs": [
        {
          "output_type": "execute_result",
          "data": {
            "text/plain": [
              "(320, 12)"
            ]
          },
          "metadata": {},
          "execution_count": 4
        }
      ]
    },
    {
      "cell_type": "code",
      "metadata": {
        "colab": {
          "base_uri": "https://localhost:8080/"
        },
        "id": "hunvyruUJhVq",
        "outputId": "3501ce7f-851c-4d13-fdcd-0b25a65e2955"
      },
      "source": [
        "# selecting the relevant features for recommendation\n",
        "\n",
        "selected_features = ['course_title','descriptions','category']\n",
        "print(selected_features)"
      ],
      "execution_count": 5,
      "outputs": [
        {
          "output_type": "stream",
          "name": "stdout",
          "text": [
            "['course_title', 'descriptions', 'category']\n"
          ]
        }
      ]
    },
    {
      "cell_type": "code",
      "metadata": {
        "id": "CKIVE6OWKSYk"
      },
      "source": [
        "# replacing the null valuess with null string\n",
        "\n",
        "for feature in selected_features:\n",
        "  courses_data[feature] = courses_data[feature].fillna('')"
      ],
      "execution_count": 6,
      "outputs": []
    },
    {
      "cell_type": "code",
      "metadata": {
        "id": "-AMjrRItLCO1"
      },
      "source": [
        "# combining all the selected features\n",
        "\n",
        "combined_features = courses_data['course_title']+' '+courses_data['descriptions']+' '+courses_data['category']"
      ],
      "execution_count": 7,
      "outputs": []
    },
    {
      "cell_type": "code",
      "metadata": {
        "colab": {
          "base_uri": "https://localhost:8080/"
        },
        "id": "ZYjFXx3aLwTh",
        "outputId": "d4ec17b9-36a5-414d-8d24-98e2b2f5036c"
      },
      "source": [
        "print(combined_features)"
      ],
      "execution_count": 8,
      "outputs": [
        {
          "output_type": "stream",
          "name": "stdout",
          "text": [
            "0      The Complete Python Bootcamp From Zero to Hero...\n",
            "1      The Complete 2023 Web Development Bootcamp Bec...\n",
            "2      The Web Developer Bootcamp 2023 10 Hours of Re...\n",
            "3      100 Days of Code: The Complete Python Pro Boot...\n",
            "4      React - The Complete Guide 2023 (incl. React R...\n",
            "                             ...                        \n",
            "315    Ultimate Rust Crash Course Rust Programming Fu...\n",
            "316    Microfrontends with React: A Complete Develope...\n",
            "317    Data Integration Fundamentals Learn how to use...\n",
            "318    Complete guide to building an app with .Net Co...\n",
            "319    Artificial Intelligence & Machine Learning for...\n",
            "Length: 320, dtype: object\n"
          ]
        }
      ]
    },
    {
      "cell_type": "code",
      "metadata": {
        "id": "BfuttC_gLyfF"
      },
      "source": [
        "# converting the text data to feature vectors\n",
        "\n",
        "vectorizer = TfidfVectorizer()"
      ],
      "execution_count": 9,
      "outputs": []
    },
    {
      "cell_type": "code",
      "metadata": {
        "id": "Leo5rQskMKxL"
      },
      "source": [
        "feature_vectors = vectorizer.fit_transform(combined_features)"
      ],
      "execution_count": 10,
      "outputs": []
    },
    {
      "cell_type": "code",
      "metadata": {
        "colab": {
          "base_uri": "https://localhost:8080/"
        },
        "id": "qNbeeMSnMb2F",
        "outputId": "08be3806-b725-4ea4-b2a0-fce3513ced7a"
      },
      "source": [
        "print(feature_vectors)"
      ],
      "execution_count": 11,
      "outputs": [
        {
          "output_type": "stream",
          "name": "stdout",
          "text": [
            "  (0, 615)\t0.11157813032536336\n",
            "  (0, 844)\t0.10528820129106936\n",
            "  (0, 469)\t0.21060522591356606\n",
            "  (0, 98)\t0.18428677294878085\n",
            "  (0, 770)\t0.22026839136290827\n",
            "  (0, 1227)\t0.14276696649129322\n",
            "  (0, 272)\t0.27317134406176297\n",
            "  (0, 1182)\t0.21060522591356606\n",
            "  (0, 69)\t0.19566991919014787\n",
            "  (0, 486)\t0.2025608462627612\n",
            "  (0, 81)\t0.14431293738458287\n",
            "  (0, 143)\t0.18181677807002086\n",
            "  (0, 1024)\t0.2025608462627612\n",
            "  (0, 838)\t0.22026839136290827\n",
            "  (0, 632)\t0.21519482497951173\n",
            "  (0, 623)\t0.08259410321716769\n",
            "  (0, 535)\t0.10938891958180237\n",
            "  (0, 512)\t0.2323702724805889\n",
            "  (0, 1102)\t0.17351240744988985\n",
            "  (0, 1228)\t0.2064152502427813\n",
            "  (0, 455)\t0.24864845261044116\n",
            "  (0, 172)\t0.15090872603929\n",
            "  (0, 862)\t0.37969310124863875\n",
            "  (0, 231)\t0.10150945222488422\n",
            "  (0, 1088)\t0.2379995371597852\n",
            "  :\t:\n",
            "  (318, 334)\t0.06854522274489758\n",
            "  (318, 1185)\t0.08393537482311132\n",
            "  (318, 81)\t0.1219958176093508\n",
            "  (318, 1024)\t0.17123604094907383\n",
            "  (318, 1102)\t0.22001965030833234\n",
            "  (318, 455)\t0.10509823936530624\n",
            "  (318, 231)\t0.17162326321791097\n",
            "  (318, 1088)\t0.06706478447153853\n",
            "  (319, 622)\t0.2642268463528299\n",
            "  (319, 285)\t0.2642268463528299\n",
            "  (319, 656)\t0.24660105072106583\n",
            "  (319, 385)\t0.24660105072106583\n",
            "  (319, 558)\t0.4079277060994445\n",
            "  (319, 113)\t0.4195370751413638\n",
            "  (319, 181)\t0.20396385304972225\n",
            "  (319, 1072)\t0.24660105072106583\n",
            "  (319, 1135)\t0.18633805741795822\n",
            "  (319, 624)\t0.25971499493605393\n",
            "  (319, 648)\t0.32402249057472804\n",
            "  (319, 940)\t0.134000684433475\n",
            "  (319, 294)\t0.11425395300404614\n",
            "  (319, 443)\t0.1892118124089977\n",
            "  (319, 261)\t0.10279578606515467\n",
            "  (319, 81)\t0.06513809512837349\n",
            "  (319, 1088)\t0.07161675533270258\n"
          ]
        }
      ]
    },
    {
      "cell_type": "markdown",
      "metadata": {
        "id": "qEGga5yPMnXO"
      },
      "source": [
        "Cosine Similarity"
      ]
    },
    {
      "cell_type": "code",
      "metadata": {
        "id": "MsKYCs31MeB6"
      },
      "source": [
        "# getting the similarity scores using cosine similarity\n",
        "\n",
        "similarity = cosine_similarity(feature_vectors)"
      ],
      "execution_count": 12,
      "outputs": []
    },
    {
      "cell_type": "code",
      "metadata": {
        "colab": {
          "base_uri": "https://localhost:8080/"
        },
        "id": "46ha1PfTM-oQ",
        "outputId": "9276741a-62f6-40c4-dd0a-88d8f2a1e6e0"
      },
      "source": [
        "print(similarity)"
      ],
      "execution_count": 13,
      "outputs": [
        {
          "output_type": "stream",
          "name": "stdout",
          "text": [
            "[[1.         0.06937824 0.05721854 ... 0.07094398 0.14998272 0.02644502]\n",
            " [0.06937824 1.         0.59967904 ... 0.02138868 0.14006314 0.02456831]\n",
            " [0.05721854 0.59967904 1.         ... 0.01356227 0.1549244  0.02427219]\n",
            " ...\n",
            " [0.07094398 0.02138868 0.01356227 ... 1.         0.05503489 0.0834945 ]\n",
            " [0.14998272 0.14006314 0.1549244  ... 0.05503489 1.         0.01274954]\n",
            " [0.02644502 0.02456831 0.02427219 ... 0.0834945  0.01274954 1.        ]]\n"
          ]
        }
      ]
    },
    {
      "cell_type": "code",
      "metadata": {
        "colab": {
          "base_uri": "https://localhost:8080/"
        },
        "id": "PLkvII-wM_5I",
        "outputId": "59345092-9844-416b-88a3-8f65f0bc3895"
      },
      "source": [
        "print(similarity.shape)"
      ],
      "execution_count": 14,
      "outputs": [
        {
          "output_type": "stream",
          "name": "stdout",
          "text": [
            "(320, 320)\n"
          ]
        }
      ]
    },
    {
      "cell_type": "markdown",
      "metadata": {
        "id": "EG3JItMUWeDD"
      },
      "source": [
        "Getting the movie name from the user"
      ]
    },
    {
      "cell_type": "code",
      "metadata": {
        "colab": {
          "base_uri": "https://localhost:8080/"
        },
        "id": "bhSWJgqgNDo7",
        "outputId": "abb607e7-a722-4ec5-f1ee-f00ecd3d3dda"
      },
      "source": [
        "# getting the course name from the user\n",
        "\n",
        "course_name = input(' Enter your favourite course name : ')"
      ],
      "execution_count": 15,
      "outputs": [
        {
          "name": "stdout",
          "output_type": "stream",
          "text": [
            " Enter your favourite course name : The Complete Machine Learning Course with Python\n"
          ]
        }
      ]
    },
    {
      "cell_type": "code",
      "metadata": {
        "colab": {
          "base_uri": "https://localhost:8080/"
        },
        "id": "CNXJfY-FOw1I",
        "outputId": "e82b36d3-6db6-4e70-ce55-2eb245d23058"
      },
      "source": [
        "# finding the index of the course with title\n",
        "\n",
        "index_of_the_course= courses_data[courses_data.course_title == course_name].index.tolist()[0]\n",
        "index_of_the_course"
      ],
      "execution_count": 17,
      "outputs": [
        {
          "output_type": "execute_result",
          "data": {
            "text/plain": [
              "312"
            ]
          },
          "metadata": {},
          "execution_count": 17
        }
      ]
    },
    {
      "cell_type": "code",
      "metadata": {
        "id": "dyUeQZpvPbkx",
        "outputId": "9dad15a1-e7bf-4a8d-c21f-a8fc8e6dbcf1",
        "colab": {
          "base_uri": "https://localhost:8080/"
        }
      },
      "source": [
        "# getting a list of similar courses\n",
        "\n",
        "similarity_score = list(enumerate(similarity[index_of_the_course]))\n",
        "print(similarity_score)"
      ],
      "execution_count": 18,
      "outputs": [
        {
          "output_type": "stream",
          "name": "stdout",
          "text": [
            "[(0, 0.11890891072065889), (1, 0.046048266141302176), (2, 0.07961729748454317), (3, 0.153503886747495), (4, 0.0270294701082329), (5, 0.06051169206006948), (6, 0.0860595156395465), (7, 0.0), (8, 0.42451406198720265), (9, 0.4233792172261476), (10, 0.3428132669480586), (11, 0.05791159199075033), (12, 0.09463373380727468), (13, 0.013260807455679296), (14, 0.0880033799724734), (15, 0.1867793830488312), (16, 0.046885565781208574), (17, 0.052328385437558744), (18, 0.05080418714678874), (19, 0.0), (20, 0.15687158583794003), (21, 0.05756220177205023), (22, 0.02700804293539908), (23, 0.010732552809084315), (24, 0.04640136684152853), (25, 0.0), (26, 0.20709041301759365), (27, 0.2258587373188109), (28, 0.037452737428392106), (29, 0.04697626043091033), (30, 0.10529322640434166), (31, 0.414610394736968), (32, 0.13434524299220288), (33, 0.0520973278588583), (34, 0.1842912756808154), (35, 0.09992042574012636), (36, 0.02558714664400431), (37, 0.008835258041622523), (38, 0.05472439712104191), (39, 0.05505186184162763), (40, 0.04325876963048611), (41, 0.3350162902904742), (42, 0.042412364034888676), (43, 0.03259835742520416), (44, 0.049190060952526406), (45, 0.010171628333167336), (46, 0.12211816680072603), (47, 0.007634672368597595), (48, 0.22210804521348707), (49, 0.020235043385823548), (50, 0.016643901684374057), (51, 0.025744783298350712), (52, 0.0538864154667653), (53, 0.010753242823421171), (54, 0.017155942981386677), (55, 0.29996863112012484), (56, 0.02162815042280822), (57, 0.03828293557671751), (58, 0.12079536799290752), (59, 0.07408426349590579), (60, 0.05640884951971696), (61, 0.06727186161738595), (62, 0.1609743719300584), (63, 0.021323239640000425), (64, 0.010621592877452601), (65, 0.024467986411067205), (66, 0.0), (67, 0.4080335684189152), (68, 0.031207867198855488), (69, 0.09910817884790252), (70, 0.05227635065279061), (71, 0.0356542889872795), (72, 0.0408182902910358), (73, 0.03190150358065079), (74, 0.028008935277062223), (75, 0.02729055009588163), (76, 0.03208919993205046), (77, 0.22232695366154467), (78, 0.0669733454983441), (79, 0.03199927172804617), (80, 0.03108444863246316), (81, 0.030355508853778804), (82, 0.023611638486282085), (83, 0.015355099915131848), (84, 0.06041339899556681), (85, 0.03472421022489565), (86, 0.03315670654880154), (87, 0.005588479603004238), (88, 0.018933348652817202), (89, 0.1089492652886198), (90, 0.1659822179039982), (91, 0.015304505981561882), (92, 0.03400098281133143), (93, 0.05857528348587215), (94, 0.24359488880588492), (95, 0.015820685645418758), (96, 0.03176518785567978), (97, 0.06669838200224555), (98, 0.024527718657551198), (99, 0.021459477893242096), (100, 0.01920594527301466), (101, 0.07439202805361866), (102, 0.0061530641315357525), (103, 0.06313077997246379), (104, 0.03497866267997744), (105, 0.0636356563671884), (106, 0.14242721744499737), (107, 0.18370998173553638), (108, 0.0378154751559871), (109, 0.011580368856652307), (110, 0.03546975309787617), (111, 0.1704429403485775), (112, 0.49367482646320404), (113, 0.04000020404489822), (114, 0.018331536275473913), (115, 0.020430507316824425), (116, 0.013331092462761696), (117, 0.028346967866955383), (118, 0.01204111898884268), (119, 0.02082962699523554), (120, 0.05014071007628265), (121, 0.09318214370892733), (122, 0.08261029130407396), (123, 0.056659711963074844), (124, 0.010656331262178586), (125, 0.0281421357404055), (126, 0.2470229783516565), (127, 0.0), (128, 0.12924555499122947), (129, 0.0351644342721628), (130, 0.04013417684618989), (131, 0.10647991155244436), (132, 0.45800581934725876), (133, 0.03702412122200109), (134, 0.10788866159354697), (135, 0.0), (136, 0.02462635376885113), (137, 0.07399126898960302), (138, 0.09927325183779848), (139, 0.00918679530634998), (140, 0.0), (141, 0.01547884397893021), (142, 0.036755616384109895), (143, 0.1397240386403339), (144, 0.022290466880860022), (145, 0.2599142880598945), (146, 0.030328472021865855), (147, 0.01232893185653693), (148, 0.03678787216452051), (149, 0.006592457604086797), (150, 0.10333379457391574), (151, 0.02146714763814324), (152, 0.04506646994893676), (153, 0.03554185079152747), (154, 0.029731403253215802), (155, 0.025994323787611504), (156, 0.011288139046797499), (157, 0.008776451767705305), (158, 0.050271868372751494), (159, 0.0531836453958113), (160, 0.027379238303541477), (161, 0.36710439466014927), (162, 0.047367567581946574), (163, 0.02585254453301336), (164, 0.48556022527725556), (165, 0.019971229994612257), (166, 0.04315376064442063), (167, 0.032845005896690364), (168, 0.010595430805728216), (169, 0.03523508278379296), (170, 0.017739334422610102), (171, 0.019530766976413774), (172, 0.02150055468598068), (173, 0.02940134357142611), (174, 0.033239814212805384), (175, 0.0355462930106491), (176, 0.037514467737653046), (177, 0.06333167853595968), (178, 0.025668695447600892), (179, 0.01364230876290766), (180, 0.11364229452592346), (181, 0.020132638132136428), (182, 0.013931715641729873), (183, 0.0876677327167186), (184, 0.14908829043914185), (185, 0.043098205597145604), (186, 0.05221002104639957), (187, 0.020727684695929765), (188, 0.026643553043995558), (189, 0.08043492778658559), (190, 0.02304121674171923), (191, 0.08629851707336325), (192, 0.018769446813223574), (193, 0.044010506783488126), (194, 0.055742119212868965), (195, 0.04879003409814035), (196, 0.0), (197, 0.12358986473786815), (198, 0.0), (199, 0.009944087620148352), (200, 0.04480572327676575), (201, 0.00991584299180146), (202, 0.0), (203, 0.0048603397079860725), (204, 0.022426192433868664), (205, 0.0391912783056113), (206, 0.04690812979509262), (207, 0.02004451343551395), (208, 0.020411212674994576), (209, 0.04200473745900254), (210, 0.03090994727116642), (211, 0.02820263755263446), (212, 0.04714386029009485), (213, 0.006584487252912628), (214, 0.011357593021330907), (215, 0.30931164044345943), (216, 0.06125970589807335), (217, 0.03073141138787662), (218, 0.050010584573654406), (219, 0.18438429677650917), (220, 0.020716084539353235), (221, 0.0), (222, 0.010292346596188261), (223, 0.03990665505759902), (224, 0.08597539910800883), (225, 0.009619966627124435), (226, 0.03759450055050306), (227, 0.21388397869701448), (228, 0.005278712395338845), (229, 0.007749852918064992), (230, 0.04870288354955543), (231, 0.17755972249215538), (232, 0.02074684335772707), (233, 0.03227754260147124), (234, 0.03284308549435527), (235, 0.3062528479971871), (236, 0.03152221045687148), (237, 0.05453012321545066), (238, 0.027320754587844342), (239, 0.02906312090654455), (240, 0.028201411197390846), (241, 0.020770841573938194), (242, 0.01601128228964479), (243, 0.19544197182048206), (244, 0.0), (245, 0.10976765873745367), (246, 0.24292502763883336), (247, 0.0), (248, 0.028535477866174233), (249, 0.028205350764400394), (250, 0.05200666479322627), (251, 0.0), (252, 0.01137913320029168), (253, 0.05321909975163072), (254, 0.0864802527718469), (255, 0.11485278354299001), (256, 0.0), (257, 0.09831374246384857), (258, 0.05733326834516933), (259, 0.012870574484792055), (260, 0.16334628557060366), (261, 0.09648307585137522), (262, 0.05579570108195025), (263, 0.025638772934604228), (264, 0.03187380449242277), (265, 0.0373282443533044), (266, 0.10963676110487158), (267, 0.03388182497616384), (268, 0.026528314965401097), (269, 0.023481860709052334), (270, 0.033781484949035955), (271, 0.14779343895668734), (272, 0.1983774376861039), (273, 0.011798324310247979), (274, 0.08646853998768911), (275, 0.03780520072204589), (276, 0.02186326564065713), (277, 0.07202865635532961), (278, 0.040997555521755304), (279, 0.011871180021881011), (280, 0.010155466739270938), (281, 0.004108497448404378), (282, 0.0647588983814787), (283, 0.023315109082428738), (284, 0.02447075571590414), (285, 0.11263050210791897), (286, 0.14123485965111296), (287, 0.12230439147558876), (288, 0.01050446212798958), (289, 0.08599580999353584), (290, 0.05439800825174565), (291, 0.03332885149324903), (292, 0.06819613757924055), (293, 0.0), (294, 0.02469014964075692), (295, 0.20466123362602168), (296, 0.01828071003115664), (297, 0.004060120006966376), (298, 0.07033856115240289), (299, 0.043366366410082055), (300, 0.005034220375163429), (301, 0.3725194705356546), (302, 0.09481415337754383), (303, 0.004984283336492527), (304, 0.0), (305, 0.020592934309970907), (306, 0.21920061273565125), (307, 0.06855042492247204), (308, 0.10844516514730491), (309, 0.03842963314720967), (310, 0.029376822659610752), (311, 0.004564910640188705), (312, 1.0000000000000002), (313, 0.04147203076979245), (314, 0.01895301675429058), (315, 0.016591822131069283), (316, 0.06881559964831796), (317, 0.03184942677911554), (318, 0.04413753639946202), (319, 0.32102669212826557)]\n"
          ]
        }
      ]
    },
    {
      "cell_type": "code",
      "metadata": {
        "id": "mMrxw-leQNtP"
      },
      "source": [
        "len(similarity_score)"
      ],
      "execution_count": null,
      "outputs": []
    },
    {
      "cell_type": "code",
      "metadata": {
        "id": "SkXgFLePQkHL",
        "outputId": "96229ac2-b2dd-452a-b50c-2c430c7a16bf",
        "colab": {
          "base_uri": "https://localhost:8080/"
        }
      },
      "source": [
        "# sorting the courses based on their similarity score\n",
        "\n",
        "sorted_similar_courses = sorted(similarity_score, key = lambda x:x[1], reverse = True)\n",
        "print(sorted_similar_courses)"
      ],
      "execution_count": 19,
      "outputs": [
        {
          "output_type": "stream",
          "name": "stdout",
          "text": [
            "[(312, 1.0000000000000002), (112, 0.49367482646320404), (164, 0.48556022527725556), (132, 0.45800581934725876), (8, 0.42451406198720265), (9, 0.4233792172261476), (31, 0.414610394736968), (67, 0.4080335684189152), (301, 0.3725194705356546), (161, 0.36710439466014927), (10, 0.3428132669480586), (41, 0.3350162902904742), (319, 0.32102669212826557), (215, 0.30931164044345943), (235, 0.3062528479971871), (55, 0.29996863112012484), (145, 0.2599142880598945), (126, 0.2470229783516565), (94, 0.24359488880588492), (246, 0.24292502763883336), (27, 0.2258587373188109), (77, 0.22232695366154467), (48, 0.22210804521348707), (306, 0.21920061273565125), (227, 0.21388397869701448), (26, 0.20709041301759365), (295, 0.20466123362602168), (272, 0.1983774376861039), (243, 0.19544197182048206), (15, 0.1867793830488312), (219, 0.18438429677650917), (34, 0.1842912756808154), (107, 0.18370998173553638), (231, 0.17755972249215538), (111, 0.1704429403485775), (90, 0.1659822179039982), (260, 0.16334628557060366), (62, 0.1609743719300584), (20, 0.15687158583794003), (3, 0.153503886747495), (184, 0.14908829043914185), (271, 0.14779343895668734), (106, 0.14242721744499737), (286, 0.14123485965111296), (143, 0.1397240386403339), (32, 0.13434524299220288), (128, 0.12924555499122947), (197, 0.12358986473786815), (287, 0.12230439147558876), (46, 0.12211816680072603), (58, 0.12079536799290752), (0, 0.11890891072065889), (255, 0.11485278354299001), (180, 0.11364229452592346), (285, 0.11263050210791897), (245, 0.10976765873745367), (266, 0.10963676110487158), (89, 0.1089492652886198), (308, 0.10844516514730491), (134, 0.10788866159354697), (131, 0.10647991155244436), (30, 0.10529322640434166), (150, 0.10333379457391574), (35, 0.09992042574012636), (138, 0.09927325183779848), (69, 0.09910817884790252), (257, 0.09831374246384857), (261, 0.09648307585137522), (302, 0.09481415337754383), (12, 0.09463373380727468), (121, 0.09318214370892733), (14, 0.0880033799724734), (183, 0.0876677327167186), (254, 0.0864802527718469), (274, 0.08646853998768911), (191, 0.08629851707336325), (6, 0.0860595156395465), (289, 0.08599580999353584), (224, 0.08597539910800883), (122, 0.08261029130407396), (189, 0.08043492778658559), (2, 0.07961729748454317), (101, 0.07439202805361866), (59, 0.07408426349590579), (137, 0.07399126898960302), (277, 0.07202865635532961), (298, 0.07033856115240289), (316, 0.06881559964831796), (307, 0.06855042492247204), (292, 0.06819613757924055), (61, 0.06727186161738595), (78, 0.0669733454983441), (97, 0.06669838200224555), (282, 0.0647588983814787), (105, 0.0636356563671884), (177, 0.06333167853595968), (103, 0.06313077997246379), (216, 0.06125970589807335), (5, 0.06051169206006948), (84, 0.06041339899556681), (93, 0.05857528348587215), (11, 0.05791159199075033), (21, 0.05756220177205023), (258, 0.05733326834516933), (123, 0.056659711963074844), (60, 0.05640884951971696), (262, 0.05579570108195025), (194, 0.055742119212868965), (39, 0.05505186184162763), (38, 0.05472439712104191), (237, 0.05453012321545066), (290, 0.05439800825174565), (52, 0.0538864154667653), (253, 0.05321909975163072), (159, 0.0531836453958113), (17, 0.052328385437558744), (70, 0.05227635065279061), (186, 0.05221002104639957), (33, 0.0520973278588583), (250, 0.05200666479322627), (18, 0.05080418714678874), (158, 0.050271868372751494), (120, 0.05014071007628265), (218, 0.050010584573654406), (44, 0.049190060952526406), (195, 0.04879003409814035), (230, 0.04870288354955543), (162, 0.047367567581946574), (212, 0.04714386029009485), (29, 0.04697626043091033), (206, 0.04690812979509262), (16, 0.046885565781208574), (24, 0.04640136684152853), (1, 0.046048266141302176), (152, 0.04506646994893676), (200, 0.04480572327676575), (318, 0.04413753639946202), (193, 0.044010506783488126), (299, 0.043366366410082055), (40, 0.04325876963048611), (166, 0.04315376064442063), (185, 0.043098205597145604), (42, 0.042412364034888676), (209, 0.04200473745900254), (313, 0.04147203076979245), (278, 0.040997555521755304), (72, 0.0408182902910358), (130, 0.04013417684618989), (113, 0.04000020404489822), (223, 0.03990665505759902), (205, 0.0391912783056113), (309, 0.03842963314720967), (57, 0.03828293557671751), (108, 0.0378154751559871), (275, 0.03780520072204589), (226, 0.03759450055050306), (176, 0.037514467737653046), (28, 0.037452737428392106), (265, 0.0373282443533044), (133, 0.03702412122200109), (148, 0.03678787216452051), (142, 0.036755616384109895), (71, 0.0356542889872795), (175, 0.0355462930106491), (153, 0.03554185079152747), (110, 0.03546975309787617), (169, 0.03523508278379296), (129, 0.0351644342721628), (104, 0.03497866267997744), (85, 0.03472421022489565), (92, 0.03400098281133143), (267, 0.03388182497616384), (270, 0.033781484949035955), (291, 0.03332885149324903), (174, 0.033239814212805384), (86, 0.03315670654880154), (167, 0.032845005896690364), (234, 0.03284308549435527), (43, 0.03259835742520416), (233, 0.03227754260147124), (76, 0.03208919993205046), (79, 0.03199927172804617), (73, 0.03190150358065079), (264, 0.03187380449242277), (317, 0.03184942677911554), (96, 0.03176518785567978), (236, 0.03152221045687148), (68, 0.031207867198855488), (80, 0.03108444863246316), (210, 0.03090994727116642), (217, 0.03073141138787662), (81, 0.030355508853778804), (146, 0.030328472021865855), (154, 0.029731403253215802), (173, 0.02940134357142611), (310, 0.029376822659610752), (239, 0.02906312090654455), (248, 0.028535477866174233), (117, 0.028346967866955383), (249, 0.028205350764400394), (211, 0.02820263755263446), (240, 0.028201411197390846), (125, 0.0281421357404055), (74, 0.028008935277062223), (160, 0.027379238303541477), (238, 0.027320754587844342), (75, 0.02729055009588163), (4, 0.0270294701082329), (22, 0.02700804293539908), (188, 0.026643553043995558), (268, 0.026528314965401097), (155, 0.025994323787611504), (163, 0.02585254453301336), (51, 0.025744783298350712), (178, 0.025668695447600892), (263, 0.025638772934604228), (36, 0.02558714664400431), (294, 0.02469014964075692), (136, 0.02462635376885113), (98, 0.024527718657551198), (284, 0.02447075571590414), (65, 0.024467986411067205), (82, 0.023611638486282085), (269, 0.023481860709052334), (283, 0.023315109082428738), (190, 0.02304121674171923), (204, 0.022426192433868664), (144, 0.022290466880860022), (276, 0.02186326564065713), (56, 0.02162815042280822), (172, 0.02150055468598068), (151, 0.02146714763814324), (99, 0.021459477893242096), (63, 0.021323239640000425), (119, 0.02082962699523554), (241, 0.020770841573938194), (232, 0.02074684335772707), (187, 0.020727684695929765), (220, 0.020716084539353235), (305, 0.020592934309970907), (115, 0.020430507316824425), (208, 0.020411212674994576), (49, 0.020235043385823548), (181, 0.020132638132136428), (207, 0.02004451343551395), (165, 0.019971229994612257), (171, 0.019530766976413774), (100, 0.01920594527301466), (314, 0.01895301675429058), (88, 0.018933348652817202), (192, 0.018769446813223574), (114, 0.018331536275473913), (296, 0.01828071003115664), (170, 0.017739334422610102), (54, 0.017155942981386677), (50, 0.016643901684374057), (315, 0.016591822131069283), (242, 0.01601128228964479), (95, 0.015820685645418758), (141, 0.01547884397893021), (83, 0.015355099915131848), (91, 0.015304505981561882), (182, 0.013931715641729873), (179, 0.01364230876290766), (116, 0.013331092462761696), (13, 0.013260807455679296), (259, 0.012870574484792055), (147, 0.01232893185653693), (118, 0.01204111898884268), (279, 0.011871180021881011), (273, 0.011798324310247979), (109, 0.011580368856652307), (252, 0.01137913320029168), (214, 0.011357593021330907), (156, 0.011288139046797499), (53, 0.010753242823421171), (23, 0.010732552809084315), (124, 0.010656331262178586), (64, 0.010621592877452601), (168, 0.010595430805728216), (288, 0.01050446212798958), (222, 0.010292346596188261), (45, 0.010171628333167336), (280, 0.010155466739270938), (199, 0.009944087620148352), (201, 0.00991584299180146), (225, 0.009619966627124435), (139, 0.00918679530634998), (37, 0.008835258041622523), (157, 0.008776451767705305), (229, 0.007749852918064992), (47, 0.007634672368597595), (149, 0.006592457604086797), (213, 0.006584487252912628), (102, 0.0061530641315357525), (87, 0.005588479603004238), (228, 0.005278712395338845), (300, 0.005034220375163429), (303, 0.004984283336492527), (203, 0.0048603397079860725), (311, 0.004564910640188705), (281, 0.004108497448404378), (297, 0.004060120006966376), (7, 0.0), (19, 0.0), (25, 0.0), (66, 0.0), (127, 0.0), (135, 0.0), (140, 0.0), (196, 0.0), (198, 0.0), (202, 0.0), (221, 0.0), (244, 0.0), (247, 0.0), (251, 0.0), (256, 0.0), (293, 0.0), (304, 0.0)]\n"
          ]
        }
      ]
    },
    {
      "cell_type": "code",
      "metadata": {
        "colab": {
          "base_uri": "https://localhost:8080/"
        },
        "id": "JseMqew-RW6Q",
        "outputId": "ff41e74d-1e48-42d5-bfdd-b35ceddeda1e"
      },
      "source": [
        "# print the name of similar courses based on the index\n",
        "\n",
        "print('Courses suggested for you : \\n')\n",
        "\n",
        "i = 1\n",
        "\n",
        "for course in sorted_similar_courses:\n",
        "  index = course[0]\n",
        "  title_from_index = courses_data[courses_data.index==index]['course_title'].values[0]\n",
        "  if (i<11):\n",
        "    print(i, '.',title_from_index,' score is: ',course[1])\n",
        "    i+=1"
      ],
      "execution_count": 21,
      "outputs": [
        {
          "output_type": "stream",
          "name": "stdout",
          "text": [
            "Courses suggested for you : \n",
            "\n",
            "1 . The Complete Machine Learning Course with Python  score is:  1.0000000000000002\n",
            "2 . Complete Machine Learning & Data Science Bootcamp 2023  score is:  0.49367482646320404\n",
            "3 . Python for Machine Learning & Data Science Masterclass  score is:  0.48556022527725556\n",
            "4 . Data Science and Machine Learning Bootcamp with R  score is:  0.45800581934725876\n",
            "5 . Machine Learning A-Z™: AI, Python & R + ChatGPT Bonus [2023]  score is:  0.42451406198720265\n",
            "6 . Python for Data Science and Machine Learning Bootcamp  score is:  0.4233792172261476\n",
            "7 . Complete Python Developer in 2023: Zero to Mastery  score is:  0.414610394736968\n",
            "8 . Machine Learning, Data Science and Generative AI with Python  score is:  0.4080335684189152\n",
            "9 . Machine Learning for Absolute Beginners - Level 1  score is:  0.3725194705356546\n",
            "10 . Introduction to Machine Learning for Data Science  score is:  0.36710439466014927\n"
          ]
        }
      ]
    },
    {
      "cell_type": "markdown",
      "metadata": {
        "id": "KmXULXO9TZun"
      },
      "source": [
        "Movie Recommendation Sytem"
      ]
    },
    {
      "cell_type": "code",
      "metadata": {
        "colab": {
          "base_uri": "https://localhost:8080/"
        },
        "id": "QUDZfTSxTHDf",
        "outputId": "6baff737-5a74-4fec-d76f-182df721d76e"
      },
      "source": [
        "course_name = input(' Enter your favourite course name : ')\n",
        "\n",
        "index_of_the_course = courses_data[courses_data.course_title == course_name].index.tolist()[0]\n",
        "\n",
        "similarity_score = list(enumerate(similarity[index_of_the_course]))\n",
        "\n",
        "sorted_similar_courses = sorted(similarity_score, key = lambda x:x[1], reverse = True)\n",
        "\n",
        "print('Courses suggested for you : \\n')\n",
        "\n",
        "i = 2\n",
        "\n",
        "for course in sorted_similar_courses:\n",
        "  index = course[0]\n",
        "  title_from_index = courses_data[courses_data.index==index]['course_title'].values[0]\n",
        "  if (i<10):\n",
        "    print(i, '.',title_from_index,' score is: ',course[1])\n",
        "    i+=1"
      ],
      "execution_count": 23,
      "outputs": [
        {
          "output_type": "stream",
          "name": "stdout",
          "text": [
            " Enter your favourite course name : Artificial Intelligence & Machine Learning for Business\n",
            "Courses suggested for you : \n",
            "\n",
            "2 . Artificial Intelligence & Machine Learning for Business  score is:  1.0000000000000002\n",
            "3 . Complete Machine Learning & Data Science Bootcamp 2023  score is:  0.4979828118082842\n",
            "4 . Machine Learning for Absolute Beginners - Level 1  score is:  0.45416352528362874\n",
            "5 . Tensorflow 2.0: Deep Learning and Artificial Intelligence  score is:  0.3987914200556463\n",
            "6 . Artificial Intelligence A-Z 2023: Build 5 AI (incl. ChatGPT)  score is:  0.3920346208467642\n",
            "7 . Data Science and Machine Learning Bootcamp with R  score is:  0.35906733375469474\n",
            "8 . The Complete Machine Learning Course with Python  score is:  0.32102669212826557\n",
            "9 . Introduction to Machine Learning for Data Science  score is:  0.31849853580740073\n"
          ]
        }
      ]
    },
    {
      "cell_type": "code",
      "metadata": {
        "id": "dgOXLbsWUAGK"
      },
      "source": [],
      "execution_count": 22,
      "outputs": []
    }
  ]
}