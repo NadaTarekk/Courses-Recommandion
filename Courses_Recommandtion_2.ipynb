{
  "nbformat": 4,
  "nbformat_minor": 0,
  "metadata": {
    "colab": {
      "provenance": [],
      "authorship_tag": "ABX9TyPclM1HFHaMtzOYcyCfXvfR",
      "include_colab_link": true
    },
    "kernelspec": {
      "name": "python3",
      "display_name": "Python 3"
    },
    "language_info": {
      "name": "python"
    }
  },
  "cells": [
    {
      "cell_type": "markdown",
      "metadata": {
        "id": "view-in-github",
        "colab_type": "text"
      },
      "source": [
        "<a href=\"https://colab.research.google.com/github/NadaTarekk/Courses-Recommandion/blob/main/Courses_Recommandtion_2.ipynb\" target=\"_parent\"><img src=\"https://colab.research.google.com/assets/colab-badge.svg\" alt=\"Open In Colab\"/></a>"
      ]
    },
    {
      "cell_type": "code",
      "execution_count": 1,
      "metadata": {
        "id": "KVbpNjOfXML3"
      },
      "outputs": [],
      "source": [
        "import pandas as pd\n",
        "import numpy as np"
      ]
    },
    {
      "cell_type": "code",
      "source": [
        "courses_data = pd.read_csv('/content/Courses.csv')\n"
      ],
      "metadata": {
        "id": "vC303wvC0rNZ"
      },
      "execution_count": 2,
      "outputs": []
    },
    {
      "cell_type": "code",
      "source": [
        "courses_data.head()"
      ],
      "metadata": {
        "colab": {
          "base_uri": "https://localhost:8080/",
          "height": 573
        },
        "id": "ObEvoWke07RQ",
        "outputId": "1cd3aac7-300d-4df2-d228-8202ed06425e"
      },
      "execution_count": 3,
      "outputs": [
        {
          "output_type": "execute_result",
          "data": {
            "text/plain": [
              "   Unnamed: 0                                        instructors  \\\n",
              "0           0                                  ['Jose Portilla']   \n",
              "1           1                                  ['Dr. Angela Yu']   \n",
              "2           2                                    ['Colt Steele']   \n",
              "3           3                                  ['Dr. Angela Yu']   \n",
              "4           4  ['Academind by Maximilian Schwarzmüller', 'Max...   \n",
              "\n",
              "                                        course_title  rating  \\\n",
              "0  The Complete Python Bootcamp From Zero to Hero...     4.6   \n",
              "1         The Complete 2023 Web Development Bootcamp     4.7   \n",
              "2                    The Web Developer Bootcamp 2023     4.7   \n",
              "3  100 Days of Code: The Complete Python Pro Boot...     4.7   \n",
              "4  React - The Complete Guide 2023 (incl. React R...     4.6   \n",
              "\n",
              "        numOfstudents                                       descriptions  \\\n",
              "0  1,823,671 students  Learn Python like a Professional  Start from t...   \n",
              "1  1,137,534 students  Become a Full-Stack Web Developer with just ON...   \n",
              "2    890,730 students  10 Hours of React just added. Become a Develop...   \n",
              "3  1,098,710 students  Master Python by building 100 projects in 100 ...   \n",
              "4    807,714 students  Dive in and learn React.js from scratch! Learn...   \n",
              "\n",
              "  languages           lastUpdated  \\\n",
              "0   English   Last updated 7/2023   \n",
              "1   English  Last updated 11/2023   \n",
              "2   English  Last updated 11/2023   \n",
              "3   English  Last updated 11/2023   \n",
              "4   English  Last updated 11/2023   \n",
              "\n",
              "                                                link       level  \\\n",
              "0  https://www.udemy.com/course/complete-python-b...  All Levels   \n",
              "1  https://www.udemy.com/course/the-complete-web-...  All Levels   \n",
              "2  https://www.udemy.com/course/the-web-developer...  All Levels   \n",
              "3     https://www.udemy.com/course/100-days-of-code/  All Levels   \n",
              "4  https://www.udemy.com/course/react-the-complet...  All Levels   \n",
              "\n",
              "                category       numOfratings  \n",
              "0  Programming Languages  (487,458 ratings)  \n",
              "1        Web Development  (340,840 ratings)  \n",
              "2        Web Development  (266,901 ratings)  \n",
              "3  Programming Languages  (254,397 ratings)  \n",
              "4  Programming Languages  (200,267 ratings)  "
            ],
            "text/html": [
              "\n",
              "  <div id=\"df-ae4c8faa-1520-4d17-9f34-608b043a6699\" class=\"colab-df-container\">\n",
              "    <div>\n",
              "<style scoped>\n",
              "    .dataframe tbody tr th:only-of-type {\n",
              "        vertical-align: middle;\n",
              "    }\n",
              "\n",
              "    .dataframe tbody tr th {\n",
              "        vertical-align: top;\n",
              "    }\n",
              "\n",
              "    .dataframe thead th {\n",
              "        text-align: right;\n",
              "    }\n",
              "</style>\n",
              "<table border=\"1\" class=\"dataframe\">\n",
              "  <thead>\n",
              "    <tr style=\"text-align: right;\">\n",
              "      <th></th>\n",
              "      <th>Unnamed: 0</th>\n",
              "      <th>instructors</th>\n",
              "      <th>course_title</th>\n",
              "      <th>rating</th>\n",
              "      <th>numOfstudents</th>\n",
              "      <th>descriptions</th>\n",
              "      <th>languages</th>\n",
              "      <th>lastUpdated</th>\n",
              "      <th>link</th>\n",
              "      <th>level</th>\n",
              "      <th>category</th>\n",
              "      <th>numOfratings</th>\n",
              "    </tr>\n",
              "  </thead>\n",
              "  <tbody>\n",
              "    <tr>\n",
              "      <th>0</th>\n",
              "      <td>0</td>\n",
              "      <td>['Jose Portilla']</td>\n",
              "      <td>The Complete Python Bootcamp From Zero to Hero...</td>\n",
              "      <td>4.6</td>\n",
              "      <td>1,823,671 students</td>\n",
              "      <td>Learn Python like a Professional  Start from t...</td>\n",
              "      <td>English</td>\n",
              "      <td>Last updated 7/2023</td>\n",
              "      <td>https://www.udemy.com/course/complete-python-b...</td>\n",
              "      <td>All Levels</td>\n",
              "      <td>Programming Languages</td>\n",
              "      <td>(487,458 ratings)</td>\n",
              "    </tr>\n",
              "    <tr>\n",
              "      <th>1</th>\n",
              "      <td>1</td>\n",
              "      <td>['Dr. Angela Yu']</td>\n",
              "      <td>The Complete 2023 Web Development Bootcamp</td>\n",
              "      <td>4.7</td>\n",
              "      <td>1,137,534 students</td>\n",
              "      <td>Become a Full-Stack Web Developer with just ON...</td>\n",
              "      <td>English</td>\n",
              "      <td>Last updated 11/2023</td>\n",
              "      <td>https://www.udemy.com/course/the-complete-web-...</td>\n",
              "      <td>All Levels</td>\n",
              "      <td>Web Development</td>\n",
              "      <td>(340,840 ratings)</td>\n",
              "    </tr>\n",
              "    <tr>\n",
              "      <th>2</th>\n",
              "      <td>2</td>\n",
              "      <td>['Colt Steele']</td>\n",
              "      <td>The Web Developer Bootcamp 2023</td>\n",
              "      <td>4.7</td>\n",
              "      <td>890,730 students</td>\n",
              "      <td>10 Hours of React just added. Become a Develop...</td>\n",
              "      <td>English</td>\n",
              "      <td>Last updated 11/2023</td>\n",
              "      <td>https://www.udemy.com/course/the-web-developer...</td>\n",
              "      <td>All Levels</td>\n",
              "      <td>Web Development</td>\n",
              "      <td>(266,901 ratings)</td>\n",
              "    </tr>\n",
              "    <tr>\n",
              "      <th>3</th>\n",
              "      <td>3</td>\n",
              "      <td>['Dr. Angela Yu']</td>\n",
              "      <td>100 Days of Code: The Complete Python Pro Boot...</td>\n",
              "      <td>4.7</td>\n",
              "      <td>1,098,710 students</td>\n",
              "      <td>Master Python by building 100 projects in 100 ...</td>\n",
              "      <td>English</td>\n",
              "      <td>Last updated 11/2023</td>\n",
              "      <td>https://www.udemy.com/course/100-days-of-code/</td>\n",
              "      <td>All Levels</td>\n",
              "      <td>Programming Languages</td>\n",
              "      <td>(254,397 ratings)</td>\n",
              "    </tr>\n",
              "    <tr>\n",
              "      <th>4</th>\n",
              "      <td>4</td>\n",
              "      <td>['Academind by Maximilian Schwarzmüller', 'Max...</td>\n",
              "      <td>React - The Complete Guide 2023 (incl. React R...</td>\n",
              "      <td>4.6</td>\n",
              "      <td>807,714 students</td>\n",
              "      <td>Dive in and learn React.js from scratch! Learn...</td>\n",
              "      <td>English</td>\n",
              "      <td>Last updated 11/2023</td>\n",
              "      <td>https://www.udemy.com/course/react-the-complet...</td>\n",
              "      <td>All Levels</td>\n",
              "      <td>Programming Languages</td>\n",
              "      <td>(200,267 ratings)</td>\n",
              "    </tr>\n",
              "  </tbody>\n",
              "</table>\n",
              "</div>\n",
              "    <div class=\"colab-df-buttons\">\n",
              "\n",
              "  <div class=\"colab-df-container\">\n",
              "    <button class=\"colab-df-convert\" onclick=\"convertToInteractive('df-ae4c8faa-1520-4d17-9f34-608b043a6699')\"\n",
              "            title=\"Convert this dataframe to an interactive table.\"\n",
              "            style=\"display:none;\">\n",
              "\n",
              "  <svg xmlns=\"http://www.w3.org/2000/svg\" height=\"24px\" viewBox=\"0 -960 960 960\">\n",
              "    <path d=\"M120-120v-720h720v720H120Zm60-500h600v-160H180v160Zm220 220h160v-160H400v160Zm0 220h160v-160H400v160ZM180-400h160v-160H180v160Zm440 0h160v-160H620v160ZM180-180h160v-160H180v160Zm440 0h160v-160H620v160Z\"/>\n",
              "  </svg>\n",
              "    </button>\n",
              "\n",
              "  <style>\n",
              "    .colab-df-container {\n",
              "      display:flex;\n",
              "      gap: 12px;\n",
              "    }\n",
              "\n",
              "    .colab-df-convert {\n",
              "      background-color: #E8F0FE;\n",
              "      border: none;\n",
              "      border-radius: 50%;\n",
              "      cursor: pointer;\n",
              "      display: none;\n",
              "      fill: #1967D2;\n",
              "      height: 32px;\n",
              "      padding: 0 0 0 0;\n",
              "      width: 32px;\n",
              "    }\n",
              "\n",
              "    .colab-df-convert:hover {\n",
              "      background-color: #E2EBFA;\n",
              "      box-shadow: 0px 1px 2px rgba(60, 64, 67, 0.3), 0px 1px 3px 1px rgba(60, 64, 67, 0.15);\n",
              "      fill: #174EA6;\n",
              "    }\n",
              "\n",
              "    .colab-df-buttons div {\n",
              "      margin-bottom: 4px;\n",
              "    }\n",
              "\n",
              "    [theme=dark] .colab-df-convert {\n",
              "      background-color: #3B4455;\n",
              "      fill: #D2E3FC;\n",
              "    }\n",
              "\n",
              "    [theme=dark] .colab-df-convert:hover {\n",
              "      background-color: #434B5C;\n",
              "      box-shadow: 0px 1px 3px 1px rgba(0, 0, 0, 0.15);\n",
              "      filter: drop-shadow(0px 1px 2px rgba(0, 0, 0, 0.3));\n",
              "      fill: #FFFFFF;\n",
              "    }\n",
              "  </style>\n",
              "\n",
              "    <script>\n",
              "      const buttonEl =\n",
              "        document.querySelector('#df-ae4c8faa-1520-4d17-9f34-608b043a6699 button.colab-df-convert');\n",
              "      buttonEl.style.display =\n",
              "        google.colab.kernel.accessAllowed ? 'block' : 'none';\n",
              "\n",
              "      async function convertToInteractive(key) {\n",
              "        const element = document.querySelector('#df-ae4c8faa-1520-4d17-9f34-608b043a6699');\n",
              "        const dataTable =\n",
              "          await google.colab.kernel.invokeFunction('convertToInteractive',\n",
              "                                                    [key], {});\n",
              "        if (!dataTable) return;\n",
              "\n",
              "        const docLinkHtml = 'Like what you see? Visit the ' +\n",
              "          '<a target=\"_blank\" href=https://colab.research.google.com/notebooks/data_table.ipynb>data table notebook</a>'\n",
              "          + ' to learn more about interactive tables.';\n",
              "        element.innerHTML = '';\n",
              "        dataTable['output_type'] = 'display_data';\n",
              "        await google.colab.output.renderOutput(dataTable, element);\n",
              "        const docLink = document.createElement('div');\n",
              "        docLink.innerHTML = docLinkHtml;\n",
              "        element.appendChild(docLink);\n",
              "      }\n",
              "    </script>\n",
              "  </div>\n",
              "\n",
              "\n",
              "<div id=\"df-5ade5fce-7365-4e00-9074-14fd928cca80\">\n",
              "  <button class=\"colab-df-quickchart\" onclick=\"quickchart('df-5ade5fce-7365-4e00-9074-14fd928cca80')\"\n",
              "            title=\"Suggest charts\"\n",
              "            style=\"display:none;\">\n",
              "\n",
              "<svg xmlns=\"http://www.w3.org/2000/svg\" height=\"24px\"viewBox=\"0 0 24 24\"\n",
              "     width=\"24px\">\n",
              "    <g>\n",
              "        <path d=\"M19 3H5c-1.1 0-2 .9-2 2v14c0 1.1.9 2 2 2h14c1.1 0 2-.9 2-2V5c0-1.1-.9-2-2-2zM9 17H7v-7h2v7zm4 0h-2V7h2v10zm4 0h-2v-4h2v4z\"/>\n",
              "    </g>\n",
              "</svg>\n",
              "  </button>\n",
              "\n",
              "<style>\n",
              "  .colab-df-quickchart {\n",
              "      --bg-color: #E8F0FE;\n",
              "      --fill-color: #1967D2;\n",
              "      --hover-bg-color: #E2EBFA;\n",
              "      --hover-fill-color: #174EA6;\n",
              "      --disabled-fill-color: #AAA;\n",
              "      --disabled-bg-color: #DDD;\n",
              "  }\n",
              "\n",
              "  [theme=dark] .colab-df-quickchart {\n",
              "      --bg-color: #3B4455;\n",
              "      --fill-color: #D2E3FC;\n",
              "      --hover-bg-color: #434B5C;\n",
              "      --hover-fill-color: #FFFFFF;\n",
              "      --disabled-bg-color: #3B4455;\n",
              "      --disabled-fill-color: #666;\n",
              "  }\n",
              "\n",
              "  .colab-df-quickchart {\n",
              "    background-color: var(--bg-color);\n",
              "    border: none;\n",
              "    border-radius: 50%;\n",
              "    cursor: pointer;\n",
              "    display: none;\n",
              "    fill: var(--fill-color);\n",
              "    height: 32px;\n",
              "    padding: 0;\n",
              "    width: 32px;\n",
              "  }\n",
              "\n",
              "  .colab-df-quickchart:hover {\n",
              "    background-color: var(--hover-bg-color);\n",
              "    box-shadow: 0 1px 2px rgba(60, 64, 67, 0.3), 0 1px 3px 1px rgba(60, 64, 67, 0.15);\n",
              "    fill: var(--button-hover-fill-color);\n",
              "  }\n",
              "\n",
              "  .colab-df-quickchart-complete:disabled,\n",
              "  .colab-df-quickchart-complete:disabled:hover {\n",
              "    background-color: var(--disabled-bg-color);\n",
              "    fill: var(--disabled-fill-color);\n",
              "    box-shadow: none;\n",
              "  }\n",
              "\n",
              "  .colab-df-spinner {\n",
              "    border: 2px solid var(--fill-color);\n",
              "    border-color: transparent;\n",
              "    border-bottom-color: var(--fill-color);\n",
              "    animation:\n",
              "      spin 1s steps(1) infinite;\n",
              "  }\n",
              "\n",
              "  @keyframes spin {\n",
              "    0% {\n",
              "      border-color: transparent;\n",
              "      border-bottom-color: var(--fill-color);\n",
              "      border-left-color: var(--fill-color);\n",
              "    }\n",
              "    20% {\n",
              "      border-color: transparent;\n",
              "      border-left-color: var(--fill-color);\n",
              "      border-top-color: var(--fill-color);\n",
              "    }\n",
              "    30% {\n",
              "      border-color: transparent;\n",
              "      border-left-color: var(--fill-color);\n",
              "      border-top-color: var(--fill-color);\n",
              "      border-right-color: var(--fill-color);\n",
              "    }\n",
              "    40% {\n",
              "      border-color: transparent;\n",
              "      border-right-color: var(--fill-color);\n",
              "      border-top-color: var(--fill-color);\n",
              "    }\n",
              "    60% {\n",
              "      border-color: transparent;\n",
              "      border-right-color: var(--fill-color);\n",
              "    }\n",
              "    80% {\n",
              "      border-color: transparent;\n",
              "      border-right-color: var(--fill-color);\n",
              "      border-bottom-color: var(--fill-color);\n",
              "    }\n",
              "    90% {\n",
              "      border-color: transparent;\n",
              "      border-bottom-color: var(--fill-color);\n",
              "    }\n",
              "  }\n",
              "</style>\n",
              "\n",
              "  <script>\n",
              "    async function quickchart(key) {\n",
              "      const quickchartButtonEl =\n",
              "        document.querySelector('#' + key + ' button');\n",
              "      quickchartButtonEl.disabled = true;  // To prevent multiple clicks.\n",
              "      quickchartButtonEl.classList.add('colab-df-spinner');\n",
              "      try {\n",
              "        const charts = await google.colab.kernel.invokeFunction(\n",
              "            'suggestCharts', [key], {});\n",
              "      } catch (error) {\n",
              "        console.error('Error during call to suggestCharts:', error);\n",
              "      }\n",
              "      quickchartButtonEl.classList.remove('colab-df-spinner');\n",
              "      quickchartButtonEl.classList.add('colab-df-quickchart-complete');\n",
              "    }\n",
              "    (() => {\n",
              "      let quickchartButtonEl =\n",
              "        document.querySelector('#df-5ade5fce-7365-4e00-9074-14fd928cca80 button');\n",
              "      quickchartButtonEl.style.display =\n",
              "        google.colab.kernel.accessAllowed ? 'block' : 'none';\n",
              "    })();\n",
              "  </script>\n",
              "</div>\n",
              "\n",
              "    </div>\n",
              "  </div>\n"
            ],
            "application/vnd.google.colaboratory.intrinsic+json": {
              "type": "dataframe",
              "variable_name": "courses_data",
              "summary": "{\n  \"name\": \"courses_data\",\n  \"rows\": 320,\n  \"fields\": [\n    {\n      \"column\": \"Unnamed: 0\",\n      \"properties\": {\n        \"dtype\": \"number\",\n        \"std\": 92,\n        \"min\": 0,\n        \"max\": 319,\n        \"num_unique_values\": 320,\n        \"samples\": [\n          167,\n          230,\n          25\n        ],\n        \"semantic_type\": \"\",\n        \"description\": \"\"\n      }\n    },\n    {\n      \"column\": \"instructors\",\n      \"properties\": {\n        \"dtype\": \"string\",\n        \"num_unique_values\": 182,\n        \"samples\": [\n          \"[\\\"Tim Buchalka's Learn Programming Academy\\\", 'Dr. Frank Mitropoulos']\",\n          \"['Jason Taylor', 'John Myers']\",\n          \"['Khaled Alkhudari']\"\n        ],\n        \"semantic_type\": \"\",\n        \"description\": \"\"\n      }\n    },\n    {\n      \"column\": \"course_title\",\n      \"properties\": {\n        \"dtype\": \"string\",\n        \"num_unique_values\": 320,\n        \"samples\": [\n          \"Selenium WebDriver with Java for beginners\",\n          \"Data Structures A-Z : Data Structures + Algorithms Bootcamp\",\n          \"Beginning C++ Programming - From Beginner to Beyond\"\n        ],\n        \"semantic_type\": \"\",\n        \"description\": \"\"\n      }\n    },\n    {\n      \"column\": \"rating\",\n      \"properties\": {\n        \"dtype\": \"number\",\n        \"std\": 0.14147537641463065,\n        \"min\": 3.9,\n        \"max\": 4.9,\n        \"num_unique_values\": 10,\n        \"samples\": [\n          4.1,\n          4.7,\n          4.3\n        ],\n        \"semantic_type\": \"\",\n        \"description\": \"\"\n      }\n    },\n    {\n      \"column\": \"numOfstudents\",\n      \"properties\": {\n        \"dtype\": \"string\",\n        \"num_unique_values\": 320,\n        \"samples\": [\n          \"45,965 students\",\n          \"41,032 students\",\n          \"280,813 students\"\n        ],\n        \"semantic_type\": \"\",\n        \"description\": \"\"\n      }\n    },\n    {\n      \"column\": \"descriptions\",\n      \"properties\": {\n        \"dtype\": \"string\",\n        \"num_unique_values\": 320,\n        \"samples\": [\n          \"Selenium WebDriver with Java and TestNG. Tutorial designed for complete beginners in Selenium testing and automation\",\n          \"Become ace in data structures & algorithms & Crack the code interview by getting mastery in data structures & algorithms\",\n          \"Obtain Modern C++ Object-Oriented Programming (OOP) and STL skills. C++14 and C++17 covered.  C++20 info see below.\"\n        ],\n        \"semantic_type\": \"\",\n        \"description\": \"\"\n      }\n    },\n    {\n      \"column\": \"languages\",\n      \"properties\": {\n        \"dtype\": \"category\",\n        \"num_unique_values\": 1,\n        \"samples\": [\n          \"English\"\n        ],\n        \"semantic_type\": \"\",\n        \"description\": \"\"\n      }\n    },\n    {\n      \"column\": \"lastUpdated\",\n      \"properties\": {\n        \"dtype\": \"category\",\n        \"num_unique_values\": 65,\n        \"samples\": [\n          \"Last updated 6/2021\"\n        ],\n        \"semantic_type\": \"\",\n        \"description\": \"\"\n      }\n    },\n    {\n      \"column\": \"link\",\n      \"properties\": {\n        \"dtype\": \"string\",\n        \"num_unique_values\": 320,\n        \"samples\": [\n          \"https://www.udemy.com/course/selenium-for-beginners/\"\n        ],\n        \"semantic_type\": \"\",\n        \"description\": \"\"\n      }\n    },\n    {\n      \"column\": \"level\",\n      \"properties\": {\n        \"dtype\": \"category\",\n        \"num_unique_values\": 4,\n        \"samples\": [\n          \"Beginner\"\n        ],\n        \"semantic_type\": \"\",\n        \"description\": \"\"\n      }\n    },\n    {\n      \"column\": \"category\",\n      \"properties\": {\n        \"dtype\": \"category\",\n        \"num_unique_values\": 10,\n        \"samples\": [\n          \"Software Engineering\"\n        ],\n        \"semantic_type\": \"\",\n        \"description\": \"\"\n      }\n    },\n    {\n      \"column\": \"numOfratings\",\n      \"properties\": {\n        \"dtype\": \"string\",\n        \"num_unique_values\": 318,\n        \"samples\": [\n          \"(28,244 ratings)\"\n        ],\n        \"semantic_type\": \"\",\n        \"description\": \"\"\n      }\n    }\n  ]\n}"
            }
          },
          "metadata": {},
          "execution_count": 3
        }
      ]
    },
    {
      "cell_type": "code",
      "source": [
        "courses_data.shape"
      ],
      "metadata": {
        "colab": {
          "base_uri": "https://localhost:8080/"
        },
        "id": "KYcdlgCN1Abq",
        "outputId": "9a0822af-4f67-4db7-afc8-b52b8401a07d"
      },
      "execution_count": 4,
      "outputs": [
        {
          "output_type": "execute_result",
          "data": {
            "text/plain": [
              "(320, 12)"
            ]
          },
          "metadata": {},
          "execution_count": 4
        }
      ]
    },
    {
      "cell_type": "code",
      "source": [
        "indices = pd.Series(courses_data.index, index=courses_data['course_title']).drop_duplicates()"
      ],
      "metadata": {
        "id": "bKNecl7W2UVM"
      },
      "execution_count": 5,
      "outputs": []
    },
    {
      "cell_type": "code",
      "source": [
        "indices"
      ],
      "metadata": {
        "colab": {
          "base_uri": "https://localhost:8080/"
        },
        "id": "n3Svx6TJ2r1f",
        "outputId": "7d27ce6d-c39a-467d-9b2e-47a6f0da849d"
      },
      "execution_count": 6,
      "outputs": [
        {
          "output_type": "execute_result",
          "data": {
            "text/plain": [
              "course_title\n",
              "The Complete Python Bootcamp From Zero to Hero in Python          0\n",
              "The Complete 2023 Web Development Bootcamp                        1\n",
              "The Web Developer Bootcamp 2023                                   2\n",
              "100 Days of Code: The Complete Python Pro Bootcamp for 2023       3\n",
              "React - The Complete Guide 2023 (incl. React Router & Redux)      4\n",
              "                                                               ... \n",
              "Ultimate Rust Crash Course                                      315\n",
              "Microfrontends with React: A Complete Developer's Guide         316\n",
              "Data Integration Fundamentals                                   317\n",
              "Complete guide to building an app with .Net Core and React      318\n",
              "Artificial Intelligence & Machine Learning for Business         319\n",
              "Length: 320, dtype: int64"
            ]
          },
          "metadata": {},
          "execution_count": 6
        }
      ]
    },
    {
      "cell_type": "code",
      "source": [
        "selected_features = ['course_title','descriptions','category']"
      ],
      "metadata": {
        "id": "bjjPHS993Urb"
      },
      "execution_count": 7,
      "outputs": []
    },
    {
      "cell_type": "code",
      "source": [
        "for feature in selected_features:\n",
        "  courses_data[feature] = courses_data[feature].fillna('')\n"
      ],
      "metadata": {
        "id": "fDfj4JGi47Pk"
      },
      "execution_count": 8,
      "outputs": []
    },
    {
      "cell_type": "code",
      "source": [
        "combined_features = courses_data['course_title']+' '+courses_data['descriptions']+' '+courses_data['category']"
      ],
      "metadata": {
        "id": "FL1FCC2A49oG"
      },
      "execution_count": 9,
      "outputs": []
    },
    {
      "cell_type": "code",
      "source": [
        "from sklearn.feature_extraction.text import TfidfVectorizer\n",
        "\n",
        "tfv = TfidfVectorizer(min_df=3,  max_features=None,\n",
        "            strip_accents='unicode', analyzer='word',token_pattern=r'\\w{1,}',\n",
        "            ngram_range=(1, 3),\n",
        "            stop_words = 'english')"
      ],
      "metadata": {
        "id": "2qG3THR99cEN"
      },
      "execution_count": 10,
      "outputs": []
    },
    {
      "cell_type": "code",
      "source": [
        "tfv_matrix = tfv.fit_transform(combined_features)"
      ],
      "metadata": {
        "id": "YKSVCBqm5A2v"
      },
      "execution_count": 11,
      "outputs": []
    },
    {
      "cell_type": "code",
      "source": [
        "tfv_matrix.shape\n"
      ],
      "metadata": {
        "colab": {
          "base_uri": "https://localhost:8080/"
        },
        "id": "9c_i33-T5OTk",
        "outputId": "0f014232-87c7-4693-ba45-2d54e27bbdf2"
      },
      "execution_count": 12,
      "outputs": [
        {
          "output_type": "execute_result",
          "data": {
            "text/plain": [
              "(320, 649)"
            ]
          },
          "metadata": {},
          "execution_count": 12
        }
      ]
    },
    {
      "cell_type": "code",
      "source": [
        "from sklearn.metrics.pairwise import sigmoid_kernel\n",
        "\n",
        "# Compute the sigmoid kernel\n",
        "sig = sigmoid_kernel(tfv_matrix, tfv_matrix)"
      ],
      "metadata": {
        "id": "dMWzTSLY5SIw"
      },
      "execution_count": 13,
      "outputs": []
    },
    {
      "cell_type": "code",
      "source": [
        "course_name = input(' Enter your favourite course name : ')\n",
        "# Get the index corresponding to original_title\n",
        "idx = indices[course_name]\n",
        "\n",
        "# Get the pairwsie similarity scores\n",
        "sig_scores = list(enumerate(sig[idx]))\n",
        "scores=sig_scores\n",
        "\n",
        "# Sort the movies\n",
        "sig_scores = sorted(sig_scores, key=lambda x: x[1], reverse=True)\n",
        "\n",
        "# Scores of the 10 most similar movies\n",
        "sig_scores = sig_scores[1:11]\n",
        "\n",
        "# Movie indices\n",
        "course_indices = [i[0] for i in sig_scores]\n",
        "\n",
        "i=2\n",
        "for indx in course_indices:\n",
        "\n",
        "  title_from_index = courses_data[courses_data.index==indx]['course_title'].values[0]\n",
        "  if (i<10):\n",
        "    print(i, '.',title_from_index,' score is: ',scores[indx])\n",
        "    i+=1\n",
        "\n"
      ],
      "metadata": {
        "id": "SQEJ3d805yLz",
        "outputId": "8ff7a1eb-ea36-4ff6-9ccb-1358fefc0425",
        "colab": {
          "base_uri": "https://localhost:8080/"
        }
      },
      "execution_count": 20,
      "outputs": [
        {
          "output_type": "stream",
          "name": "stdout",
          "text": [
            " Enter your favourite course name : Artificial Intelligence & Machine Learning for Business\n",
            "2 . Machine Learning for Absolute Beginners - Level 1  score is:  (301, 0.7620828765190187)\n",
            "3 . Tensorflow 2.0: Deep Learning and Artificial Intelligence  score is:  (215, 0.7619871711679681)\n",
            "4 . Complete Machine Learning & Data Science Bootcamp 2023  score is:  (112, 0.7618900763755534)\n",
            "5 . Artificial Intelligence: Reinforcement Learning in Python  score is:  (227, 0.7618704624793208)\n",
            "6 . The Complete Machine Learning Course with Python  score is:  (312, 0.7618385469733585)\n",
            "7 . Artificial Intelligence A-Z 2023: Build 5 AI (incl. ChatGPT)  score is:  (55, 0.7618264836540423)\n",
            "8 . Introduction to Machine Learning for Data Science  score is:  (161, 0.761790386386256)\n",
            "9 . Machine Learning, Data Science and Generative AI with Python  score is:  (67, 0.7617765913118086)\n"
          ]
        }
      ]
    },
    {
      "cell_type": "code",
      "source": [],
      "metadata": {
        "id": "Cddc8NaA57PI"
      },
      "execution_count": 20,
      "outputs": []
    }
  ]
}